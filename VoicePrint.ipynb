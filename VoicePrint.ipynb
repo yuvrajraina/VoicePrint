{
  "nbformat": 4,
  "nbformat_minor": 0,
  "metadata": {
    "colab": {
      "name": "VoicePrint.ipynb",
      "provenance": [],
      "machine_shape": "hm"
    },
    "kernelspec": {
      "name": "python3",
      "display_name": "Python 3"
    },
    "language_info": {
      "name": "python"
    }
  },
  "cells": [
    {
      "cell_type": "code",
      "execution_count": null,
      "metadata": {
        "id": "D7cQjCt7TLhv"
      },
      "outputs": [],
      "source": [
        "import requests\n",
        "url = 'https://www.openslr.org/resources/12/train-clean-100.tar.gz'\n",
        "r = requests.get(url, allow_redirects=True)"
      ]
    },
    {
      "cell_type": "code",
      "source": [
        "open('train-clean-100.tar.gz', 'wb').write(r.content)"
      ],
      "metadata": {
        "colab": {
          "base_uri": "https://localhost:8080/"
        },
        "id": "xBY8a613h2Py",
        "outputId": "87312bbe-1bab-4fa5-c79e-9cb5df268422"
      },
      "execution_count": null,
      "outputs": [
        {
          "output_type": "execute_result",
          "data": {
            "text/plain": [
              "6387309499"
            ]
          },
          "metadata": {},
          "execution_count": 4
        }
      ]
    },
    {
      "cell_type": "code",
      "source": [
        "import tarfile\n",
        "  \n",
        "# open file\n",
        "file = tarfile.open('train-clean-100.tar.gz')\n",
        "  \n",
        "# extracting file\n",
        "file.extractall('./Destination_FolderName')\n",
        "  \n",
        "file.close()"
      ],
      "metadata": {
        "id": "GGsLBs4sTPvV"
      },
      "execution_count": null,
      "outputs": []
    },
    {
      "cell_type": "code",
      "source": [
        "!pwd"
      ],
      "metadata": {
        "colab": {
          "base_uri": "https://localhost:8080/"
        },
        "id": "IpF2iUq8hSYE",
        "outputId": "61430d5f-0ce3-48e0-dad4-4f30f31047b5"
      },
      "execution_count": null,
      "outputs": [
        {
          "output_type": "stream",
          "name": "stdout",
          "text": [
            "/content\n"
          ]
        }
      ]
    },
    {
      "cell_type": "code",
      "source": [
        "!mkdir final_folder"
      ],
      "metadata": {
        "id": "uIQMc6v_mdCh"
      },
      "execution_count": null,
      "outputs": []
    },
    {
      "cell_type": "code",
      "source": [
        "!mkdir final_folder/male\n",
        "!mkdir final_folder/female"
      ],
      "metadata": {
        "id": "h67nGAGwnukt"
      },
      "execution_count": null,
      "outputs": []
    },
    {
      "cell_type": "code",
      "source": [
        "!cd final_folder"
      ],
      "metadata": {
        "id": "67A9BhELmjvk"
      },
      "execution_count": null,
      "outputs": []
    },
    {
      "cell_type": "code",
      "source": [
        "!mv Destination_FolderName/LibriSpeech/train-clean-100/103/1240/* final_folder/female/"
      ],
      "metadata": {
        "id": "hjifg6DJmp5J"
      },
      "execution_count": null,
      "outputs": []
    },
    {
      "cell_type": "code",
      "source": [
        "!mv Destination_FolderName/LibriSpeech/train-clean-100/1034/121119/* final_folder/male/"
      ],
      "metadata": {
        "id": "AUpIUg3-mqwx"
      },
      "execution_count": null,
      "outputs": []
    },
    {
      "cell_type": "code",
      "source": [
        "!mv Destination_FolderName/LibriSpeech/train-clean-100/1040/133433/* final_folder/male/"
      ],
      "metadata": {
        "id": "ub1eHKoxoQkG"
      },
      "execution_count": null,
      "outputs": []
    },
    {
      "cell_type": "code",
      "source": [
        "!mv Destination_FolderName/LibriSpeech/train-clean-100/1069/133699/* final_folder/female/"
      ],
      "metadata": {
        "id": "KirXKHC6odCc"
      },
      "execution_count": null,
      "outputs": []
    },
    {
      "cell_type": "code",
      "source": [
        "!rm final_folder/male/*.txt"
      ],
      "metadata": {
        "id": "rLf2mVshonRr"
      },
      "execution_count": null,
      "outputs": []
    },
    {
      "cell_type": "code",
      "source": [
        "!rm final_folder/female/*.txt"
      ],
      "metadata": {
        "id": "9qUJ1klJouaL"
      },
      "execution_count": null,
      "outputs": []
    },
    {
      "cell_type": "code",
      "source": [
        "!ls final_folder/male/"
      ],
      "metadata": {
        "colab": {
          "base_uri": "https://localhost:8080/"
        },
        "id": "0DKUN5kKowHL",
        "outputId": "35e5786d-0042-4050-be3f-75b1d8a9931a"
      },
      "execution_count": null,
      "outputs": [
        {
          "output_type": "stream",
          "name": "stdout",
          "text": [
            "1034-121119-0000.flac  1034-121119-0059.flac  1040-133433-0022.flac\n",
            "1034-121119-0001.flac  1034-121119-0060.flac  1040-133433-0023.flac\n",
            "1034-121119-0002.flac  1034-121119-0061.flac  1040-133433-0024.flac\n",
            "1034-121119-0003.flac  1034-121119-0062.flac  1040-133433-0025.flac\n",
            "1034-121119-0004.flac  1034-121119-0063.flac  1040-133433-0026.flac\n",
            "1034-121119-0005.flac  1034-121119-0064.flac  1040-133433-0027.flac\n",
            "1034-121119-0006.flac  1034-121119-0065.flac  1040-133433-0028.flac\n",
            "1034-121119-0007.flac  1034-121119-0066.flac  1040-133433-0029.flac\n",
            "1034-121119-0008.flac  1034-121119-0067.flac  1040-133433-0030.flac\n",
            "1034-121119-0009.flac  1034-121119-0068.flac  1040-133433-0031.flac\n",
            "1034-121119-0010.flac  1034-121119-0069.flac  1040-133433-0032.flac\n",
            "1034-121119-0011.flac  1034-121119-0070.flac  1040-133433-0033.flac\n",
            "1034-121119-0012.flac  1034-121119-0071.flac  1040-133433-0034.flac\n",
            "1034-121119-0013.flac  1034-121119-0072.flac  1040-133433-0035.flac\n",
            "1034-121119-0014.flac  1034-121119-0073.flac  1040-133433-0036.flac\n",
            "1034-121119-0015.flac  1034-121119-0074.flac  1040-133433-0037.flac\n",
            "1034-121119-0016.flac  1034-121119-0075.flac  1040-133433-0038.flac\n",
            "1034-121119-0017.flac  1034-121119-0076.flac  1040-133433-0039.flac\n",
            "1034-121119-0018.flac  1034-121119-0077.flac  1040-133433-0040.flac\n",
            "1034-121119-0019.flac  1034-121119-0078.flac  1040-133433-0041.flac\n",
            "1034-121119-0020.flac  1034-121119-0079.flac  1040-133433-0042.flac\n",
            "1034-121119-0021.flac  1034-121119-0080.flac  1040-133433-0043.flac\n",
            "1034-121119-0022.flac  1034-121119-0081.flac  1040-133433-0044.flac\n",
            "1034-121119-0023.flac  1034-121119-0082.flac  1040-133433-0045.flac\n",
            "1034-121119-0024.flac  1034-121119-0083.flac  1040-133433-0046.flac\n",
            "1034-121119-0025.flac  1034-121119-0084.flac  1040-133433-0047.flac\n",
            "1034-121119-0026.flac  1034-121119-0085.flac  1040-133433-0048.flac\n",
            "1034-121119-0027.flac  1034-121119-0086.flac  1040-133433-0049.flac\n",
            "1034-121119-0028.flac  1034-121119-0087.flac  1040-133433-0050.flac\n",
            "1034-121119-0029.flac  1034-121119-0088.flac  1040-133433-0051.flac\n",
            "1034-121119-0030.flac  1034-121119-0089.flac  1040-133433-0052.flac\n",
            "1034-121119-0031.flac  1034-121119-0090.flac  1040-133433-0053.flac\n",
            "1034-121119-0032.flac  1034-121119-0091.flac  1040-133433-0054.flac\n",
            "1034-121119-0033.flac  1034-121119-0092.flac  1040-133433-0055.flac\n",
            "1034-121119-0034.flac  1034-121119-0093.flac  1040-133433-0056.flac\n",
            "1034-121119-0035.flac  1034-121119-0094.flac  1040-133433-0057.flac\n",
            "1034-121119-0036.flac  1034-121119-0095.flac  1040-133433-0058.flac\n",
            "1034-121119-0037.flac  1040-133433-0000.flac  1040-133433-0059.flac\n",
            "1034-121119-0038.flac  1040-133433-0001.flac  1040-133433-0060.flac\n",
            "1034-121119-0039.flac  1040-133433-0002.flac  1040-133433-0061.flac\n",
            "1034-121119-0040.flac  1040-133433-0003.flac  1040-133433-0062.flac\n",
            "1034-121119-0041.flac  1040-133433-0004.flac  1040-133433-0063.flac\n",
            "1034-121119-0042.flac  1040-133433-0005.flac  1040-133433-0064.flac\n",
            "1034-121119-0043.flac  1040-133433-0006.flac  1040-133433-0065.flac\n",
            "1034-121119-0044.flac  1040-133433-0007.flac  1040-133433-0066.flac\n",
            "1034-121119-0045.flac  1040-133433-0008.flac  1040-133433-0067.flac\n",
            "1034-121119-0046.flac  1040-133433-0009.flac  1040-133433-0068.flac\n",
            "1034-121119-0047.flac  1040-133433-0010.flac  1040-133433-0069.flac\n",
            "1034-121119-0048.flac  1040-133433-0011.flac  1040-133433-0070.flac\n",
            "1034-121119-0049.flac  1040-133433-0012.flac  1040-133433-0071.flac\n",
            "1034-121119-0050.flac  1040-133433-0013.flac  1040-133433-0072.flac\n",
            "1034-121119-0051.flac  1040-133433-0014.flac  1040-133433-0073.flac\n",
            "1034-121119-0052.flac  1040-133433-0015.flac  1040-133433-0074.flac\n",
            "1034-121119-0053.flac  1040-133433-0016.flac  1040-133433-0075.flac\n",
            "1034-121119-0054.flac  1040-133433-0017.flac  1040-133433-0076.flac\n",
            "1034-121119-0055.flac  1040-133433-0018.flac  1040-133433-0077.flac\n",
            "1034-121119-0056.flac  1040-133433-0019.flac  1040-133433-0078.flac\n",
            "1034-121119-0057.flac  1040-133433-0020.flac  1040-133433-0079.flac\n",
            "1034-121119-0058.flac  1040-133433-0021.flac  1040-133433-0080.flac\n"
          ]
        }
      ]
    },
    {
      "cell_type": "code",
      "source": [
        "!ls final_folder/female/"
      ],
      "metadata": {
        "id": "XjvD0p7ipB6l",
        "outputId": "4e369971-f230-4b8d-dc1d-c684c108ae70",
        "colab": {
          "base_uri": "https://localhost:8080/"
        }
      },
      "execution_count": null,
      "outputs": [
        {
          "output_type": "stream",
          "name": "stdout",
          "text": [
            "103-1240-0000.flac  103-1240-0038.flac\t   1069-133699-0018.flac\n",
            "103-1240-0001.flac  103-1240-0039.flac\t   1069-133699-0019.flac\n",
            "103-1240-0002.flac  103-1240-0040.flac\t   1069-133699-0020.flac\n",
            "103-1240-0003.flac  103-1240-0041.flac\t   1069-133699-0021.flac\n",
            "103-1240-0004.flac  103-1240-0042.flac\t   1069-133699-0022.flac\n",
            "103-1240-0005.flac  103-1240-0043.flac\t   1069-133699-0023.flac\n",
            "103-1240-0006.flac  103-1240-0044.flac\t   1069-133699-0024.flac\n",
            "103-1240-0007.flac  103-1240-0045.flac\t   1069-133699-0025.flac\n",
            "103-1240-0008.flac  103-1240-0046.flac\t   1069-133699-0026.flac\n",
            "103-1240-0009.flac  103-1240-0047.flac\t   1069-133699-0027.flac\n",
            "103-1240-0010.flac  103-1240-0048.flac\t   1069-133699-0028.flac\n",
            "103-1240-0011.flac  103-1240-0049.flac\t   1069-133699-0029.flac\n",
            "103-1240-0012.flac  103-1240-0050.flac\t   1069-133699-0030.flac\n",
            "103-1240-0013.flac  103-1240-0051.flac\t   1069-133699-0031.flac\n",
            "103-1240-0014.flac  103-1240-0052.flac\t   1069-133699-0032.flac\n",
            "103-1240-0015.flac  103-1240-0053.flac\t   1069-133699-0033.flac\n",
            "103-1240-0016.flac  103-1240-0054.flac\t   1069-133699-0034.flac\n",
            "103-1240-0017.flac  103-1240-0055.flac\t   1069-133699-0035.flac\n",
            "103-1240-0018.flac  103-1240-0056.flac\t   1069-133699-0036.flac\n",
            "103-1240-0019.flac  103-1240-0057.flac\t   1069-133699-0037.flac\n",
            "103-1240-0020.flac  1069-133699-0000.flac  1069-133699-0038.flac\n",
            "103-1240-0021.flac  1069-133699-0001.flac  1069-133699-0039.flac\n",
            "103-1240-0022.flac  1069-133699-0002.flac  1069-133699-0040.flac\n",
            "103-1240-0023.flac  1069-133699-0003.flac  1069-133699-0041.flac\n",
            "103-1240-0024.flac  1069-133699-0004.flac  1069-133699-0042.flac\n",
            "103-1240-0025.flac  1069-133699-0005.flac  1069-133699-0043.flac\n",
            "103-1240-0026.flac  1069-133699-0006.flac  1069-133699-0044.flac\n",
            "103-1240-0027.flac  1069-133699-0007.flac  1069-133699-0045.flac\n",
            "103-1240-0028.flac  1069-133699-0008.flac  1069-133699-0046.flac\n",
            "103-1240-0029.flac  1069-133699-0009.flac  1069-133699-0047.flac\n",
            "103-1240-0030.flac  1069-133699-0010.flac  1069-133699-0048.flac\n",
            "103-1240-0031.flac  1069-133699-0011.flac  1069-133699-0049.flac\n",
            "103-1240-0032.flac  1069-133699-0012.flac  1069-133699-0050.flac\n",
            "103-1240-0033.flac  1069-133699-0013.flac  1069-133699-0051.flac\n",
            "103-1240-0034.flac  1069-133699-0014.flac  1069-133699-0052.flac\n",
            "103-1240-0035.flac  1069-133699-0015.flac  1069-133699-0053.flac\n",
            "103-1240-0036.flac  1069-133699-0016.flac  1069-133699-0054.flac\n",
            "103-1240-0037.flac  1069-133699-0017.flac\n"
          ]
        }
      ]
    },
    {
      "cell_type": "code",
      "source": [
        "import os\n",
        "male_file = os.listdir(\"final_folder/male/\")"
      ],
      "metadata": {
        "id": "FP8UqOEQo-3a"
      },
      "execution_count": 140,
      "outputs": []
    },
    {
      "cell_type": "code",
      "source": [
        "male_file_username = [f.split('-')[0] for f in male_file]"
      ],
      "metadata": {
        "id": "NFVfT-OLpg-L"
      },
      "execution_count": 141,
      "outputs": []
    },
    {
      "cell_type": "code",
      "source": [
        "import pandas as pd\n",
        "df = pd.DataFrame({'file':male_file, 'username':male_file_username})\n",
        "df['gender'] = 1\n",
        "df.head(5)"
      ],
      "metadata": {
        "colab": {
          "base_uri": "https://localhost:8080/",
          "height": 206
        },
        "id": "KRn-JLs3p5dX",
        "outputId": "aba0bb0a-55ab-4c69-d56c-1fc7fa42e67b"
      },
      "execution_count": 142,
      "outputs": [
        {
          "output_type": "execute_result",
          "data": {
            "text/plain": [
              "                    file username  gender\n",
              "0  1040-133433-0001.flac     1040       1\n",
              "1  1040-133433-0060.flac     1040       1\n",
              "2  1040-133433-0059.flac     1040       1\n",
              "3  1034-121119-0033.flac     1034       1\n",
              "4  1034-121119-0018.flac     1034       1"
            ],
            "text/html": [
              "\n",
              "  <div id=\"df-fdf20165-e5cb-4057-a29a-6381b1f583cd\">\n",
              "    <div class=\"colab-df-container\">\n",
              "      <div>\n",
              "<style scoped>\n",
              "    .dataframe tbody tr th:only-of-type {\n",
              "        vertical-align: middle;\n",
              "    }\n",
              "\n",
              "    .dataframe tbody tr th {\n",
              "        vertical-align: top;\n",
              "    }\n",
              "\n",
              "    .dataframe thead th {\n",
              "        text-align: right;\n",
              "    }\n",
              "</style>\n",
              "<table border=\"1\" class=\"dataframe\">\n",
              "  <thead>\n",
              "    <tr style=\"text-align: right;\">\n",
              "      <th></th>\n",
              "      <th>file</th>\n",
              "      <th>username</th>\n",
              "      <th>gender</th>\n",
              "    </tr>\n",
              "  </thead>\n",
              "  <tbody>\n",
              "    <tr>\n",
              "      <th>0</th>\n",
              "      <td>1040-133433-0001.flac</td>\n",
              "      <td>1040</td>\n",
              "      <td>1</td>\n",
              "    </tr>\n",
              "    <tr>\n",
              "      <th>1</th>\n",
              "      <td>1040-133433-0060.flac</td>\n",
              "      <td>1040</td>\n",
              "      <td>1</td>\n",
              "    </tr>\n",
              "    <tr>\n",
              "      <th>2</th>\n",
              "      <td>1040-133433-0059.flac</td>\n",
              "      <td>1040</td>\n",
              "      <td>1</td>\n",
              "    </tr>\n",
              "    <tr>\n",
              "      <th>3</th>\n",
              "      <td>1034-121119-0033.flac</td>\n",
              "      <td>1034</td>\n",
              "      <td>1</td>\n",
              "    </tr>\n",
              "    <tr>\n",
              "      <th>4</th>\n",
              "      <td>1034-121119-0018.flac</td>\n",
              "      <td>1034</td>\n",
              "      <td>1</td>\n",
              "    </tr>\n",
              "  </tbody>\n",
              "</table>\n",
              "</div>\n",
              "      <button class=\"colab-df-convert\" onclick=\"convertToInteractive('df-fdf20165-e5cb-4057-a29a-6381b1f583cd')\"\n",
              "              title=\"Convert this dataframe to an interactive table.\"\n",
              "              style=\"display:none;\">\n",
              "        \n",
              "  <svg xmlns=\"http://www.w3.org/2000/svg\" height=\"24px\"viewBox=\"0 0 24 24\"\n",
              "       width=\"24px\">\n",
              "    <path d=\"M0 0h24v24H0V0z\" fill=\"none\"/>\n",
              "    <path d=\"M18.56 5.44l.94 2.06.94-2.06 2.06-.94-2.06-.94-.94-2.06-.94 2.06-2.06.94zm-11 1L8.5 8.5l.94-2.06 2.06-.94-2.06-.94L8.5 2.5l-.94 2.06-2.06.94zm10 10l.94 2.06.94-2.06 2.06-.94-2.06-.94-.94-2.06-.94 2.06-2.06.94z\"/><path d=\"M17.41 7.96l-1.37-1.37c-.4-.4-.92-.59-1.43-.59-.52 0-1.04.2-1.43.59L10.3 9.45l-7.72 7.72c-.78.78-.78 2.05 0 2.83L4 21.41c.39.39.9.59 1.41.59.51 0 1.02-.2 1.41-.59l7.78-7.78 2.81-2.81c.8-.78.8-2.07 0-2.86zM5.41 20L4 18.59l7.72-7.72 1.47 1.35L5.41 20z\"/>\n",
              "  </svg>\n",
              "      </button>\n",
              "      \n",
              "  <style>\n",
              "    .colab-df-container {\n",
              "      display:flex;\n",
              "      flex-wrap:wrap;\n",
              "      gap: 12px;\n",
              "    }\n",
              "\n",
              "    .colab-df-convert {\n",
              "      background-color: #E8F0FE;\n",
              "      border: none;\n",
              "      border-radius: 50%;\n",
              "      cursor: pointer;\n",
              "      display: none;\n",
              "      fill: #1967D2;\n",
              "      height: 32px;\n",
              "      padding: 0 0 0 0;\n",
              "      width: 32px;\n",
              "    }\n",
              "\n",
              "    .colab-df-convert:hover {\n",
              "      background-color: #E2EBFA;\n",
              "      box-shadow: 0px 1px 2px rgba(60, 64, 67, 0.3), 0px 1px 3px 1px rgba(60, 64, 67, 0.15);\n",
              "      fill: #174EA6;\n",
              "    }\n",
              "\n",
              "    [theme=dark] .colab-df-convert {\n",
              "      background-color: #3B4455;\n",
              "      fill: #D2E3FC;\n",
              "    }\n",
              "\n",
              "    [theme=dark] .colab-df-convert:hover {\n",
              "      background-color: #434B5C;\n",
              "      box-shadow: 0px 1px 3px 1px rgba(0, 0, 0, 0.15);\n",
              "      filter: drop-shadow(0px 1px 2px rgba(0, 0, 0, 0.3));\n",
              "      fill: #FFFFFF;\n",
              "    }\n",
              "  </style>\n",
              "\n",
              "      <script>\n",
              "        const buttonEl =\n",
              "          document.querySelector('#df-fdf20165-e5cb-4057-a29a-6381b1f583cd button.colab-df-convert');\n",
              "        buttonEl.style.display =\n",
              "          google.colab.kernel.accessAllowed ? 'block' : 'none';\n",
              "\n",
              "        async function convertToInteractive(key) {\n",
              "          const element = document.querySelector('#df-fdf20165-e5cb-4057-a29a-6381b1f583cd');\n",
              "          const dataTable =\n",
              "            await google.colab.kernel.invokeFunction('convertToInteractive',\n",
              "                                                     [key], {});\n",
              "          if (!dataTable) return;\n",
              "\n",
              "          const docLinkHtml = 'Like what you see? Visit the ' +\n",
              "            '<a target=\"_blank\" href=https://colab.research.google.com/notebooks/data_table.ipynb>data table notebook</a>'\n",
              "            + ' to learn more about interactive tables.';\n",
              "          element.innerHTML = '';\n",
              "          dataTable['output_type'] = 'display_data';\n",
              "          await google.colab.output.renderOutput(dataTable, element);\n",
              "          const docLink = document.createElement('div');\n",
              "          docLink.innerHTML = docLinkHtml;\n",
              "          element.appendChild(docLink);\n",
              "        }\n",
              "      </script>\n",
              "    </div>\n",
              "  </div>\n",
              "  "
            ]
          },
          "metadata": {},
          "execution_count": 142
        }
      ]
    },
    {
      "cell_type": "code",
      "source": [
        "male_df = df"
      ],
      "metadata": {
        "id": "uwT0neeWqYlk"
      },
      "execution_count": 143,
      "outputs": []
    },
    {
      "cell_type": "code",
      "source": [
        "male_file = os.listdir(\"final_folder/female/\")\n",
        "male_file_username = [f.split('-')[0] for f in male_file]\n",
        "import pandas as pd\n",
        "df = pd.DataFrame({'file':male_file, 'username':male_file_username})\n",
        "df['gender'] = 0\n",
        "female_df = df"
      ],
      "metadata": {
        "id": "VKDDgRLfrC30"
      },
      "execution_count": 144,
      "outputs": []
    },
    {
      "cell_type": "code",
      "source": [
        "df[df['file'] == 'final_folder/female/.ipynb_checkpoints']"
      ],
      "metadata": {
        "colab": {
          "base_uri": "https://localhost:8080/",
          "height": 49
        },
        "id": "Dr9hxZw13T0O",
        "outputId": "02fc53fc-6ec8-4c6b-95f5-c0e781b6e0a4"
      },
      "execution_count": 145,
      "outputs": [
        {
          "output_type": "execute_result",
          "data": {
            "text/plain": [
              "Empty DataFrame\n",
              "Columns: [file, username, gender]\n",
              "Index: []"
            ],
            "text/html": [
              "\n",
              "  <div id=\"df-2a1cb54f-aefe-4cb2-83f7-f843de399abb\">\n",
              "    <div class=\"colab-df-container\">\n",
              "      <div>\n",
              "<style scoped>\n",
              "    .dataframe tbody tr th:only-of-type {\n",
              "        vertical-align: middle;\n",
              "    }\n",
              "\n",
              "    .dataframe tbody tr th {\n",
              "        vertical-align: top;\n",
              "    }\n",
              "\n",
              "    .dataframe thead th {\n",
              "        text-align: right;\n",
              "    }\n",
              "</style>\n",
              "<table border=\"1\" class=\"dataframe\">\n",
              "  <thead>\n",
              "    <tr style=\"text-align: right;\">\n",
              "      <th></th>\n",
              "      <th>file</th>\n",
              "      <th>username</th>\n",
              "      <th>gender</th>\n",
              "    </tr>\n",
              "  </thead>\n",
              "  <tbody>\n",
              "  </tbody>\n",
              "</table>\n",
              "</div>\n",
              "      <button class=\"colab-df-convert\" onclick=\"convertToInteractive('df-2a1cb54f-aefe-4cb2-83f7-f843de399abb')\"\n",
              "              title=\"Convert this dataframe to an interactive table.\"\n",
              "              style=\"display:none;\">\n",
              "        \n",
              "  <svg xmlns=\"http://www.w3.org/2000/svg\" height=\"24px\"viewBox=\"0 0 24 24\"\n",
              "       width=\"24px\">\n",
              "    <path d=\"M0 0h24v24H0V0z\" fill=\"none\"/>\n",
              "    <path d=\"M18.56 5.44l.94 2.06.94-2.06 2.06-.94-2.06-.94-.94-2.06-.94 2.06-2.06.94zm-11 1L8.5 8.5l.94-2.06 2.06-.94-2.06-.94L8.5 2.5l-.94 2.06-2.06.94zm10 10l.94 2.06.94-2.06 2.06-.94-2.06-.94-.94-2.06-.94 2.06-2.06.94z\"/><path d=\"M17.41 7.96l-1.37-1.37c-.4-.4-.92-.59-1.43-.59-.52 0-1.04.2-1.43.59L10.3 9.45l-7.72 7.72c-.78.78-.78 2.05 0 2.83L4 21.41c.39.39.9.59 1.41.59.51 0 1.02-.2 1.41-.59l7.78-7.78 2.81-2.81c.8-.78.8-2.07 0-2.86zM5.41 20L4 18.59l7.72-7.72 1.47 1.35L5.41 20z\"/>\n",
              "  </svg>\n",
              "      </button>\n",
              "      \n",
              "  <style>\n",
              "    .colab-df-container {\n",
              "      display:flex;\n",
              "      flex-wrap:wrap;\n",
              "      gap: 12px;\n",
              "    }\n",
              "\n",
              "    .colab-df-convert {\n",
              "      background-color: #E8F0FE;\n",
              "      border: none;\n",
              "      border-radius: 50%;\n",
              "      cursor: pointer;\n",
              "      display: none;\n",
              "      fill: #1967D2;\n",
              "      height: 32px;\n",
              "      padding: 0 0 0 0;\n",
              "      width: 32px;\n",
              "    }\n",
              "\n",
              "    .colab-df-convert:hover {\n",
              "      background-color: #E2EBFA;\n",
              "      box-shadow: 0px 1px 2px rgba(60, 64, 67, 0.3), 0px 1px 3px 1px rgba(60, 64, 67, 0.15);\n",
              "      fill: #174EA6;\n",
              "    }\n",
              "\n",
              "    [theme=dark] .colab-df-convert {\n",
              "      background-color: #3B4455;\n",
              "      fill: #D2E3FC;\n",
              "    }\n",
              "\n",
              "    [theme=dark] .colab-df-convert:hover {\n",
              "      background-color: #434B5C;\n",
              "      box-shadow: 0px 1px 3px 1px rgba(0, 0, 0, 0.15);\n",
              "      filter: drop-shadow(0px 1px 2px rgba(0, 0, 0, 0.3));\n",
              "      fill: #FFFFFF;\n",
              "    }\n",
              "  </style>\n",
              "\n",
              "      <script>\n",
              "        const buttonEl =\n",
              "          document.querySelector('#df-2a1cb54f-aefe-4cb2-83f7-f843de399abb button.colab-df-convert');\n",
              "        buttonEl.style.display =\n",
              "          google.colab.kernel.accessAllowed ? 'block' : 'none';\n",
              "\n",
              "        async function convertToInteractive(key) {\n",
              "          const element = document.querySelector('#df-2a1cb54f-aefe-4cb2-83f7-f843de399abb');\n",
              "          const dataTable =\n",
              "            await google.colab.kernel.invokeFunction('convertToInteractive',\n",
              "                                                     [key], {});\n",
              "          if (!dataTable) return;\n",
              "\n",
              "          const docLinkHtml = 'Like what you see? Visit the ' +\n",
              "            '<a target=\"_blank\" href=https://colab.research.google.com/notebooks/data_table.ipynb>data table notebook</a>'\n",
              "            + ' to learn more about interactive tables.';\n",
              "          element.innerHTML = '';\n",
              "          dataTable['output_type'] = 'display_data';\n",
              "          await google.colab.output.renderOutput(dataTable, element);\n",
              "          const docLink = document.createElement('div');\n",
              "          docLink.innerHTML = docLinkHtml;\n",
              "          element.appendChild(docLink);\n",
              "        }\n",
              "      </script>\n",
              "    </div>\n",
              "  </div>\n",
              "  "
            ]
          },
          "metadata": {},
          "execution_count": 145
        }
      ]
    },
    {
      "cell_type": "code",
      "source": [
        "df = pd.concat([female_df, male_df], ignore_index=True)"
      ],
      "metadata": {
        "id": "HxPJzkdXrO3Q"
      },
      "execution_count": 146,
      "outputs": []
    },
    {
      "cell_type": "code",
      "source": [
        "df.username.unique()"
      ],
      "metadata": {
        "colab": {
          "base_uri": "https://localhost:8080/"
        },
        "id": "5XSmyMPkrgzm",
        "outputId": "cb2ac988-7c0f-478a-fe7e-3881cc3c516c"
      },
      "execution_count": 136,
      "outputs": [
        {
          "output_type": "execute_result",
          "data": {
            "text/plain": [
              "array(['103', '1069', '.ipynb_checkpoints', '1040', '1034'], dtype=object)"
            ]
          },
          "metadata": {},
          "execution_count": 136
        }
      ]
    },
    {
      "cell_type": "code",
      "source": [
        "df.head()"
      ],
      "metadata": {
        "colab": {
          "base_uri": "https://localhost:8080/",
          "height": 206
        },
        "id": "ahs46stOrkMa",
        "outputId": "ab74b8d1-12cf-4ac5-f5c4-5328c3454eaf"
      },
      "execution_count": 137,
      "outputs": [
        {
          "output_type": "execute_result",
          "data": {
            "text/plain": [
              "                 file username  gender\n",
              "0  103-1240-0002.flac      103       0\n",
              "1  103-1240-0006.flac      103       0\n",
              "2  103-1240-0051.flac      103       0\n",
              "3  103-1240-0044.flac      103       0\n",
              "4  103-1240-0027.flac      103       0"
            ],
            "text/html": [
              "\n",
              "  <div id=\"df-38475cc0-25e6-46ac-99ff-0c7087d690de\">\n",
              "    <div class=\"colab-df-container\">\n",
              "      <div>\n",
              "<style scoped>\n",
              "    .dataframe tbody tr th:only-of-type {\n",
              "        vertical-align: middle;\n",
              "    }\n",
              "\n",
              "    .dataframe tbody tr th {\n",
              "        vertical-align: top;\n",
              "    }\n",
              "\n",
              "    .dataframe thead th {\n",
              "        text-align: right;\n",
              "    }\n",
              "</style>\n",
              "<table border=\"1\" class=\"dataframe\">\n",
              "  <thead>\n",
              "    <tr style=\"text-align: right;\">\n",
              "      <th></th>\n",
              "      <th>file</th>\n",
              "      <th>username</th>\n",
              "      <th>gender</th>\n",
              "    </tr>\n",
              "  </thead>\n",
              "  <tbody>\n",
              "    <tr>\n",
              "      <th>0</th>\n",
              "      <td>103-1240-0002.flac</td>\n",
              "      <td>103</td>\n",
              "      <td>0</td>\n",
              "    </tr>\n",
              "    <tr>\n",
              "      <th>1</th>\n",
              "      <td>103-1240-0006.flac</td>\n",
              "      <td>103</td>\n",
              "      <td>0</td>\n",
              "    </tr>\n",
              "    <tr>\n",
              "      <th>2</th>\n",
              "      <td>103-1240-0051.flac</td>\n",
              "      <td>103</td>\n",
              "      <td>0</td>\n",
              "    </tr>\n",
              "    <tr>\n",
              "      <th>3</th>\n",
              "      <td>103-1240-0044.flac</td>\n",
              "      <td>103</td>\n",
              "      <td>0</td>\n",
              "    </tr>\n",
              "    <tr>\n",
              "      <th>4</th>\n",
              "      <td>103-1240-0027.flac</td>\n",
              "      <td>103</td>\n",
              "      <td>0</td>\n",
              "    </tr>\n",
              "  </tbody>\n",
              "</table>\n",
              "</div>\n",
              "      <button class=\"colab-df-convert\" onclick=\"convertToInteractive('df-38475cc0-25e6-46ac-99ff-0c7087d690de')\"\n",
              "              title=\"Convert this dataframe to an interactive table.\"\n",
              "              style=\"display:none;\">\n",
              "        \n",
              "  <svg xmlns=\"http://www.w3.org/2000/svg\" height=\"24px\"viewBox=\"0 0 24 24\"\n",
              "       width=\"24px\">\n",
              "    <path d=\"M0 0h24v24H0V0z\" fill=\"none\"/>\n",
              "    <path d=\"M18.56 5.44l.94 2.06.94-2.06 2.06-.94-2.06-.94-.94-2.06-.94 2.06-2.06.94zm-11 1L8.5 8.5l.94-2.06 2.06-.94-2.06-.94L8.5 2.5l-.94 2.06-2.06.94zm10 10l.94 2.06.94-2.06 2.06-.94-2.06-.94-.94-2.06-.94 2.06-2.06.94z\"/><path d=\"M17.41 7.96l-1.37-1.37c-.4-.4-.92-.59-1.43-.59-.52 0-1.04.2-1.43.59L10.3 9.45l-7.72 7.72c-.78.78-.78 2.05 0 2.83L4 21.41c.39.39.9.59 1.41.59.51 0 1.02-.2 1.41-.59l7.78-7.78 2.81-2.81c.8-.78.8-2.07 0-2.86zM5.41 20L4 18.59l7.72-7.72 1.47 1.35L5.41 20z\"/>\n",
              "  </svg>\n",
              "      </button>\n",
              "      \n",
              "  <style>\n",
              "    .colab-df-container {\n",
              "      display:flex;\n",
              "      flex-wrap:wrap;\n",
              "      gap: 12px;\n",
              "    }\n",
              "\n",
              "    .colab-df-convert {\n",
              "      background-color: #E8F0FE;\n",
              "      border: none;\n",
              "      border-radius: 50%;\n",
              "      cursor: pointer;\n",
              "      display: none;\n",
              "      fill: #1967D2;\n",
              "      height: 32px;\n",
              "      padding: 0 0 0 0;\n",
              "      width: 32px;\n",
              "    }\n",
              "\n",
              "    .colab-df-convert:hover {\n",
              "      background-color: #E2EBFA;\n",
              "      box-shadow: 0px 1px 2px rgba(60, 64, 67, 0.3), 0px 1px 3px 1px rgba(60, 64, 67, 0.15);\n",
              "      fill: #174EA6;\n",
              "    }\n",
              "\n",
              "    [theme=dark] .colab-df-convert {\n",
              "      background-color: #3B4455;\n",
              "      fill: #D2E3FC;\n",
              "    }\n",
              "\n",
              "    [theme=dark] .colab-df-convert:hover {\n",
              "      background-color: #434B5C;\n",
              "      box-shadow: 0px 1px 3px 1px rgba(0, 0, 0, 0.15);\n",
              "      filter: drop-shadow(0px 1px 2px rgba(0, 0, 0, 0.3));\n",
              "      fill: #FFFFFF;\n",
              "    }\n",
              "  </style>\n",
              "\n",
              "      <script>\n",
              "        const buttonEl =\n",
              "          document.querySelector('#df-38475cc0-25e6-46ac-99ff-0c7087d690de button.colab-df-convert');\n",
              "        buttonEl.style.display =\n",
              "          google.colab.kernel.accessAllowed ? 'block' : 'none';\n",
              "\n",
              "        async function convertToInteractive(key) {\n",
              "          const element = document.querySelector('#df-38475cc0-25e6-46ac-99ff-0c7087d690de');\n",
              "          const dataTable =\n",
              "            await google.colab.kernel.invokeFunction('convertToInteractive',\n",
              "                                                     [key], {});\n",
              "          if (!dataTable) return;\n",
              "\n",
              "          const docLinkHtml = 'Like what you see? Visit the ' +\n",
              "            '<a target=\"_blank\" href=https://colab.research.google.com/notebooks/data_table.ipynb>data table notebook</a>'\n",
              "            + ' to learn more about interactive tables.';\n",
              "          element.innerHTML = '';\n",
              "          dataTable['output_type'] = 'display_data';\n",
              "          await google.colab.output.renderOutput(dataTable, element);\n",
              "          const docLink = document.createElement('div');\n",
              "          docLink.innerHTML = docLinkHtml;\n",
              "          element.appendChild(docLink);\n",
              "        }\n",
              "      </script>\n",
              "    </div>\n",
              "  </div>\n",
              "  "
            ]
          },
          "metadata": {},
          "execution_count": 137
        }
      ]
    },
    {
      "cell_type": "code",
      "source": [
        "df_train = df[:203]"
      ],
      "metadata": {
        "id": "mAAa7tucrunn"
      },
      "execution_count": 107,
      "outputs": []
    },
    {
      "cell_type": "code",
      "source": [
        "df_train"
      ],
      "metadata": {
        "colab": {
          "base_uri": "https://localhost:8080/",
          "height": 424
        },
        "id": "R2VJ8P4jr69l",
        "outputId": "059927d1-eaa4-475c-9230-0db4bae890d6"
      },
      "execution_count": 59,
      "outputs": [
        {
          "output_type": "execute_result",
          "data": {
            "text/plain": [
              "                      file username  gender\n",
              "0       103-1240-0002.flac      103       0\n",
              "1       103-1240-0006.flac      103       0\n",
              "2       103-1240-0051.flac      103       0\n",
              "3       103-1240-0044.flac      103       0\n",
              "4       103-1240-0027.flac      103       0\n",
              "..                     ...      ...     ...\n",
              "198  1040-133433-0076.flac     1040       1\n",
              "199  1040-133433-0042.flac     1040       1\n",
              "200  1034-121119-0025.flac     1034       1\n",
              "201  1034-121119-0067.flac     1034       1\n",
              "202  1034-121119-0038.flac     1034       1\n",
              "\n",
              "[203 rows x 3 columns]"
            ],
            "text/html": [
              "\n",
              "  <div id=\"df-3fa8cc43-a85a-4fb5-89fb-8ea2d4979798\">\n",
              "    <div class=\"colab-df-container\">\n",
              "      <div>\n",
              "<style scoped>\n",
              "    .dataframe tbody tr th:only-of-type {\n",
              "        vertical-align: middle;\n",
              "    }\n",
              "\n",
              "    .dataframe tbody tr th {\n",
              "        vertical-align: top;\n",
              "    }\n",
              "\n",
              "    .dataframe thead th {\n",
              "        text-align: right;\n",
              "    }\n",
              "</style>\n",
              "<table border=\"1\" class=\"dataframe\">\n",
              "  <thead>\n",
              "    <tr style=\"text-align: right;\">\n",
              "      <th></th>\n",
              "      <th>file</th>\n",
              "      <th>username</th>\n",
              "      <th>gender</th>\n",
              "    </tr>\n",
              "  </thead>\n",
              "  <tbody>\n",
              "    <tr>\n",
              "      <th>0</th>\n",
              "      <td>103-1240-0002.flac</td>\n",
              "      <td>103</td>\n",
              "      <td>0</td>\n",
              "    </tr>\n",
              "    <tr>\n",
              "      <th>1</th>\n",
              "      <td>103-1240-0006.flac</td>\n",
              "      <td>103</td>\n",
              "      <td>0</td>\n",
              "    </tr>\n",
              "    <tr>\n",
              "      <th>2</th>\n",
              "      <td>103-1240-0051.flac</td>\n",
              "      <td>103</td>\n",
              "      <td>0</td>\n",
              "    </tr>\n",
              "    <tr>\n",
              "      <th>3</th>\n",
              "      <td>103-1240-0044.flac</td>\n",
              "      <td>103</td>\n",
              "      <td>0</td>\n",
              "    </tr>\n",
              "    <tr>\n",
              "      <th>4</th>\n",
              "      <td>103-1240-0027.flac</td>\n",
              "      <td>103</td>\n",
              "      <td>0</td>\n",
              "    </tr>\n",
              "    <tr>\n",
              "      <th>...</th>\n",
              "      <td>...</td>\n",
              "      <td>...</td>\n",
              "      <td>...</td>\n",
              "    </tr>\n",
              "    <tr>\n",
              "      <th>198</th>\n",
              "      <td>1040-133433-0076.flac</td>\n",
              "      <td>1040</td>\n",
              "      <td>1</td>\n",
              "    </tr>\n",
              "    <tr>\n",
              "      <th>199</th>\n",
              "      <td>1040-133433-0042.flac</td>\n",
              "      <td>1040</td>\n",
              "      <td>1</td>\n",
              "    </tr>\n",
              "    <tr>\n",
              "      <th>200</th>\n",
              "      <td>1034-121119-0025.flac</td>\n",
              "      <td>1034</td>\n",
              "      <td>1</td>\n",
              "    </tr>\n",
              "    <tr>\n",
              "      <th>201</th>\n",
              "      <td>1034-121119-0067.flac</td>\n",
              "      <td>1034</td>\n",
              "      <td>1</td>\n",
              "    </tr>\n",
              "    <tr>\n",
              "      <th>202</th>\n",
              "      <td>1034-121119-0038.flac</td>\n",
              "      <td>1034</td>\n",
              "      <td>1</td>\n",
              "    </tr>\n",
              "  </tbody>\n",
              "</table>\n",
              "<p>203 rows × 3 columns</p>\n",
              "</div>\n",
              "      <button class=\"colab-df-convert\" onclick=\"convertToInteractive('df-3fa8cc43-a85a-4fb5-89fb-8ea2d4979798')\"\n",
              "              title=\"Convert this dataframe to an interactive table.\"\n",
              "              style=\"display:none;\">\n",
              "        \n",
              "  <svg xmlns=\"http://www.w3.org/2000/svg\" height=\"24px\"viewBox=\"0 0 24 24\"\n",
              "       width=\"24px\">\n",
              "    <path d=\"M0 0h24v24H0V0z\" fill=\"none\"/>\n",
              "    <path d=\"M18.56 5.44l.94 2.06.94-2.06 2.06-.94-2.06-.94-.94-2.06-.94 2.06-2.06.94zm-11 1L8.5 8.5l.94-2.06 2.06-.94-2.06-.94L8.5 2.5l-.94 2.06-2.06.94zm10 10l.94 2.06.94-2.06 2.06-.94-2.06-.94-.94-2.06-.94 2.06-2.06.94z\"/><path d=\"M17.41 7.96l-1.37-1.37c-.4-.4-.92-.59-1.43-.59-.52 0-1.04.2-1.43.59L10.3 9.45l-7.72 7.72c-.78.78-.78 2.05 0 2.83L4 21.41c.39.39.9.59 1.41.59.51 0 1.02-.2 1.41-.59l7.78-7.78 2.81-2.81c.8-.78.8-2.07 0-2.86zM5.41 20L4 18.59l7.72-7.72 1.47 1.35L5.41 20z\"/>\n",
              "  </svg>\n",
              "      </button>\n",
              "      \n",
              "  <style>\n",
              "    .colab-df-container {\n",
              "      display:flex;\n",
              "      flex-wrap:wrap;\n",
              "      gap: 12px;\n",
              "    }\n",
              "\n",
              "    .colab-df-convert {\n",
              "      background-color: #E8F0FE;\n",
              "      border: none;\n",
              "      border-radius: 50%;\n",
              "      cursor: pointer;\n",
              "      display: none;\n",
              "      fill: #1967D2;\n",
              "      height: 32px;\n",
              "      padding: 0 0 0 0;\n",
              "      width: 32px;\n",
              "    }\n",
              "\n",
              "    .colab-df-convert:hover {\n",
              "      background-color: #E2EBFA;\n",
              "      box-shadow: 0px 1px 2px rgba(60, 64, 67, 0.3), 0px 1px 3px 1px rgba(60, 64, 67, 0.15);\n",
              "      fill: #174EA6;\n",
              "    }\n",
              "\n",
              "    [theme=dark] .colab-df-convert {\n",
              "      background-color: #3B4455;\n",
              "      fill: #D2E3FC;\n",
              "    }\n",
              "\n",
              "    [theme=dark] .colab-df-convert:hover {\n",
              "      background-color: #434B5C;\n",
              "      box-shadow: 0px 1px 3px 1px rgba(0, 0, 0, 0.15);\n",
              "      filter: drop-shadow(0px 1px 2px rgba(0, 0, 0, 0.3));\n",
              "      fill: #FFFFFF;\n",
              "    }\n",
              "  </style>\n",
              "\n",
              "      <script>\n",
              "        const buttonEl =\n",
              "          document.querySelector('#df-3fa8cc43-a85a-4fb5-89fb-8ea2d4979798 button.colab-df-convert');\n",
              "        buttonEl.style.display =\n",
              "          google.colab.kernel.accessAllowed ? 'block' : 'none';\n",
              "\n",
              "        async function convertToInteractive(key) {\n",
              "          const element = document.querySelector('#df-3fa8cc43-a85a-4fb5-89fb-8ea2d4979798');\n",
              "          const dataTable =\n",
              "            await google.colab.kernel.invokeFunction('convertToInteractive',\n",
              "                                                     [key], {});\n",
              "          if (!dataTable) return;\n",
              "\n",
              "          const docLinkHtml = 'Like what you see? Visit the ' +\n",
              "            '<a target=\"_blank\" href=https://colab.research.google.com/notebooks/data_table.ipynb>data table notebook</a>'\n",
              "            + ' to learn more about interactive tables.';\n",
              "          element.innerHTML = '';\n",
              "          dataTable['output_type'] = 'display_data';\n",
              "          await google.colab.output.renderOutput(dataTable, element);\n",
              "          const docLink = document.createElement('div');\n",
              "          docLink.innerHTML = docLinkHtml;\n",
              "          element.appendChild(docLink);\n",
              "        }\n",
              "      </script>\n",
              "    </div>\n",
              "  </div>\n",
              "  "
            ]
          },
          "metadata": {},
          "execution_count": 59
        }
      ]
    },
    {
      "cell_type": "code",
      "source": [
        "df_train['gender'].value_counts(normalize=True)"
      ],
      "metadata": {
        "colab": {
          "base_uri": "https://localhost:8080/"
        },
        "id": "MCHPKucLsJGo",
        "outputId": "291793e4-de65-40d3-b90c-44b11ec848de"
      },
      "execution_count": 93,
      "outputs": [
        {
          "output_type": "execute_result",
          "data": {
            "text/plain": [
              "1    0.600985\n",
              "0    0.399015\n",
              "Name: gender, dtype: float64"
            ]
          },
          "metadata": {},
          "execution_count": 93
        }
      ]
    },
    {
      "cell_type": "code",
      "source": [
        "df_validation = df[203:261]\n",
        "df_validation['gender'].value_counts(normalize=True)"
      ],
      "metadata": {
        "colab": {
          "base_uri": "https://localhost:8080/"
        },
        "id": "5ODjt8B7sVAs",
        "outputId": "a6eb3de0-3045-420b-ac78-cfcc72bc0ff3"
      },
      "execution_count": 94,
      "outputs": [
        {
          "output_type": "execute_result",
          "data": {
            "text/plain": [
              "1    1.0\n",
              "Name: gender, dtype: float64"
            ]
          },
          "metadata": {},
          "execution_count": 94
        }
      ]
    },
    {
      "cell_type": "code",
      "source": [
        "from sklearn.model_selection import train_test_split\n",
        "df_train, df_test, y_train, y_test = train_test_split(df[[\"file\",\"gender\"]], df[\"username\"], test_size=0.30, random_state = 69)"
      ],
      "metadata": {
        "id": "XUokHhIpstVh"
      },
      "execution_count": 63,
      "outputs": []
    },
    {
      "cell_type": "code",
      "source": [
        "df_train['gender'].value_counts(normalize=True)"
      ],
      "metadata": {
        "colab": {
          "base_uri": "https://localhost:8080/"
        },
        "id": "TGAvWk0es4sy",
        "outputId": "9c831530-cd62-4d83-8bbe-07be6a9226b8"
      },
      "execution_count": 65,
      "outputs": [
        {
          "output_type": "execute_result",
          "data": {
            "text/plain": [
              "1    0.600985\n",
              "0    0.399015\n",
              "Name: gender, dtype: float64"
            ]
          },
          "metadata": {},
          "execution_count": 65
        }
      ]
    },
    {
      "cell_type": "code",
      "source": [
        "df_test['gender'].value_counts(normalize=True)"
      ],
      "metadata": {
        "colab": {
          "base_uri": "https://localhost:8080/"
        },
        "id": "UHdkE-KqtrQn",
        "outputId": "6867ec9f-a752-4dd5-cde5-a91e7f3a4773"
      },
      "execution_count": 66,
      "outputs": [
        {
          "output_type": "execute_result",
          "data": {
            "text/plain": [
              "1    0.632184\n",
              "0    0.367816\n",
              "Name: gender, dtype: float64"
            ]
          },
          "metadata": {},
          "execution_count": 66
        }
      ]
    },
    {
      "cell_type": "code",
      "source": [
        "df_validation, df_test, y_val, y_test = train_test_split(df_test[[\"file\",\"gender\"]], y_test, test_size=0.30, random_state = 69)"
      ],
      "metadata": {
        "id": "xubf4NCXtxGD"
      },
      "execution_count": 67,
      "outputs": []
    },
    {
      "cell_type": "code",
      "source": [
        "df_test['gender'].value_counts(normalize=True)"
      ],
      "metadata": {
        "colab": {
          "base_uri": "https://localhost:8080/"
        },
        "id": "AbP36L0ruITh",
        "outputId": "94f05236-e7a2-4897-92c2-bd913ed613d5"
      },
      "execution_count": 68,
      "outputs": [
        {
          "output_type": "execute_result",
          "data": {
            "text/plain": [
              "1    0.592593\n",
              "0    0.407407\n",
              "Name: gender, dtype: float64"
            ]
          },
          "metadata": {},
          "execution_count": 68
        }
      ]
    },
    {
      "cell_type": "code",
      "source": [
        "df_validation['gender'].value_counts(normalize=True)"
      ],
      "metadata": {
        "colab": {
          "base_uri": "https://localhost:8080/"
        },
        "id": "W9dCk0cLuJdS",
        "outputId": "d26136ca-c056-4725-fda1-eaae37cfbca9"
      },
      "execution_count": 69,
      "outputs": [
        {
          "output_type": "execute_result",
          "data": {
            "text/plain": [
              "1    0.65\n",
              "0    0.35\n",
              "Name: gender, dtype: float64"
            ]
          },
          "metadata": {},
          "execution_count": 69
        }
      ]
    },
    {
      "cell_type": "code",
      "source": [
        "df = df[df['file'] != '.ipynb_checkpoints']"
      ],
      "metadata": {
        "id": "gvM9mQmN5Z1n"
      },
      "execution_count": 147,
      "outputs": []
    },
    {
      "cell_type": "code",
      "source": [
        "import librosa\n",
        "import numpy as np\n",
        "def extract_features(files):\n",
        "  if files[2] == 1:\n",
        "    path = \"final_folder/male/\"\n",
        "  else:\n",
        "    path = \"final_folder/female/\"\n",
        "\n",
        "  path = path+files[0]\n",
        "\n",
        "  X, sample_rate = librosa.load(path, res_type ='kaiser_fast')\n",
        "  mfccs = np.mean(librosa.feature.mfcc(y =X, sr = sample_rate, n_mfcc =40).T, axis =0)\n",
        "  stft = np.abs(librosa.stft(X))\n",
        "  chroma = np.mean(librosa.feature.chroma_stft(S = stft, sr = sample_rate).T, axis =0)\n",
        "  mel = np.mean(librosa.feature.melspectrogram(X, sr=sample_rate).T,axis=0)\n",
        "  contrast = np.mean(librosa.feature.spectral_contrast(S=stft, sr=sample_rate).T,axis=0)\n",
        "  tonnetz = np.mean(librosa.feature.tonnetz(y=librosa.effects.harmonic(X),sr=sample_rate).T,axis=0)\n",
        "  label = files.gender\n",
        "  print(\"done\"+path)\n",
        "  return mfccs, chroma, mel, contrast, tonnetz, label      \n",
        "\n",
        "features_label = df.apply(extract_features, axis=1)"
      ],
      "metadata": {
        "colab": {
          "base_uri": "https://localhost:8080/"
        },
        "id": "IFarUU5tuMf5",
        "outputId": "83d37314-cf89-4620-a046-5d7e1405ed13"
      },
      "execution_count": 259,
      "outputs": [
        {
          "output_type": "stream",
          "name": "stdout",
          "text": [
            "donefinal_folder/female/103-1240-0002.flac\n",
            "donefinal_folder/female/103-1240-0006.flac\n",
            "donefinal_folder/female/103-1240-0051.flac\n",
            "donefinal_folder/female/103-1240-0044.flac\n",
            "donefinal_folder/female/103-1240-0027.flac\n",
            "donefinal_folder/female/1069-133699-0021.flac\n",
            "donefinal_folder/female/1069-133699-0012.flac\n",
            "donefinal_folder/female/1069-133699-0017.flac\n",
            "donefinal_folder/female/103-1240-0005.flac\n",
            "donefinal_folder/female/1069-133699-0052.flac\n",
            "donefinal_folder/female/1069-133699-0038.flac\n",
            "donefinal_folder/female/1069-133699-0051.flac\n",
            "donefinal_folder/female/1069-133699-0007.flac\n",
            "donefinal_folder/female/1069-133699-0010.flac\n",
            "donefinal_folder/female/1069-133699-0014.flac\n",
            "donefinal_folder/female/103-1240-0010.flac\n",
            "donefinal_folder/female/1069-133699-0003.flac\n",
            "donefinal_folder/female/1069-133699-0053.flac\n",
            "donefinal_folder/female/103-1240-0028.flac\n",
            "donefinal_folder/female/1069-133699-0001.flac\n",
            "donefinal_folder/female/1069-133699-0041.flac\n",
            "donefinal_folder/female/103-1240-0036.flac\n",
            "donefinal_folder/female/1069-133699-0032.flac\n",
            "donefinal_folder/female/103-1240-0013.flac\n",
            "donefinal_folder/female/103-1240-0040.flac\n",
            "donefinal_folder/female/1069-133699-0024.flac\n",
            "donefinal_folder/female/103-1240-0017.flac\n",
            "donefinal_folder/female/103-1240-0007.flac\n",
            "donefinal_folder/female/103-1240-0024.flac\n",
            "donefinal_folder/female/103-1240-0057.flac\n",
            "donefinal_folder/female/103-1240-0039.flac\n",
            "donefinal_folder/female/103-1240-0019.flac\n",
            "donefinal_folder/female/103-1240-0046.flac\n",
            "donefinal_folder/female/1069-133699-0046.flac\n",
            "donefinal_folder/female/103-1240-0049.flac\n",
            "donefinal_folder/female/103-1240-0034.flac\n",
            "donefinal_folder/female/1069-133699-0016.flac\n",
            "donefinal_folder/female/103-1240-0000.flac\n",
            "donefinal_folder/female/103-1240-0038.flac\n",
            "donefinal_folder/female/103-1240-0054.flac\n",
            "donefinal_folder/female/1069-133699-0006.flac\n",
            "donefinal_folder/female/1069-133699-0023.flac\n",
            "donefinal_folder/female/103-1240-0022.flac\n",
            "donefinal_folder/female/103-1240-0037.flac\n",
            "donefinal_folder/female/103-1240-0016.flac\n",
            "donefinal_folder/female/103-1240-0021.flac\n",
            "donefinal_folder/female/1069-133699-0048.flac\n",
            "donefinal_folder/female/103-1240-0047.flac\n",
            "donefinal_folder/female/1069-133699-0000.flac\n",
            "donefinal_folder/female/1069-133699-0027.flac\n",
            "donefinal_folder/female/1069-133699-0040.flac\n",
            "donefinal_folder/female/1069-133699-0008.flac\n",
            "donefinal_folder/female/1069-133699-0026.flac\n",
            "donefinal_folder/female/103-1240-0032.flac\n",
            "donefinal_folder/female/103-1240-0023.flac\n",
            "donefinal_folder/female/1069-133699-0035.flac\n",
            "donefinal_folder/female/103-1240-0008.flac\n",
            "donefinal_folder/female/1069-133699-0025.flac\n",
            "donefinal_folder/female/103-1240-0009.flac\n",
            "donefinal_folder/female/103-1240-0041.flac\n",
            "donefinal_folder/female/1069-133699-0022.flac\n",
            "donefinal_folder/female/103-1240-0033.flac\n",
            "donefinal_folder/female/103-1240-0004.flac\n",
            "donefinal_folder/female/1069-133699-0013.flac\n",
            "donefinal_folder/female/1069-133699-0002.flac\n",
            "donefinal_folder/female/103-1240-0026.flac\n",
            "donefinal_folder/female/1069-133699-0039.flac\n",
            "donefinal_folder/female/1069-133699-0036.flac\n",
            "donefinal_folder/female/103-1240-0030.flac\n",
            "donefinal_folder/female/1069-133699-0034.flac\n",
            "donefinal_folder/female/1069-133699-0049.flac\n",
            "donefinal_folder/female/103-1240-0042.flac\n",
            "donefinal_folder/female/103-1240-0048.flac\n",
            "donefinal_folder/female/1069-133699-0033.flac\n",
            "donefinal_folder/female/103-1240-0025.flac\n",
            "donefinal_folder/female/1069-133699-0011.flac\n",
            "donefinal_folder/female/103-1240-0029.flac\n",
            "donefinal_folder/female/1069-133699-0044.flac\n",
            "donefinal_folder/female/1069-133699-0054.flac\n",
            "donefinal_folder/female/103-1240-0012.flac\n",
            "donefinal_folder/female/103-1240-0018.flac\n",
            "donefinal_folder/female/1069-133699-0042.flac\n",
            "donefinal_folder/female/1069-133699-0050.flac\n",
            "donefinal_folder/female/1069-133699-0019.flac\n",
            "donefinal_folder/female/103-1240-0031.flac\n",
            "donefinal_folder/female/1069-133699-0047.flac\n",
            "donefinal_folder/female/1069-133699-0015.flac\n",
            "donefinal_folder/female/103-1240-0055.flac\n",
            "donefinal_folder/female/1069-133699-0020.flac\n",
            "donefinal_folder/female/1069-133699-0037.flac\n",
            "donefinal_folder/female/103-1240-0035.flac\n",
            "donefinal_folder/female/103-1240-0045.flac\n",
            "donefinal_folder/female/1069-133699-0029.flac\n",
            "donefinal_folder/female/103-1240-0015.flac\n",
            "donefinal_folder/female/103-1240-0052.flac\n",
            "donefinal_folder/female/103-1240-0020.flac\n",
            "donefinal_folder/female/103-1240-0014.flac\n",
            "donefinal_folder/female/103-1240-0001.flac\n",
            "donefinal_folder/female/1069-133699-0030.flac\n",
            "donefinal_folder/female/1069-133699-0043.flac\n",
            "donefinal_folder/female/103-1240-0056.flac\n",
            "donefinal_folder/female/103-1240-0050.flac\n",
            "donefinal_folder/female/103-1240-0003.flac\n",
            "donefinal_folder/female/1069-133699-0028.flac\n",
            "donefinal_folder/female/1069-133699-0031.flac\n",
            "donefinal_folder/female/1069-133699-0018.flac\n",
            "donefinal_folder/female/1069-133699-0045.flac\n",
            "donefinal_folder/female/1069-133699-0005.flac\n",
            "donefinal_folder/female/103-1240-0053.flac\n",
            "donefinal_folder/female/1069-133699-0004.flac\n",
            "donefinal_folder/female/103-1240-0043.flac\n",
            "donefinal_folder/female/103-1240-0011.flac\n",
            "donefinal_folder/male/1040-133433-0001.flac\n",
            "donefinal_folder/male/1040-133433-0060.flac\n",
            "donefinal_folder/male/1040-133433-0059.flac\n",
            "donefinal_folder/male/1034-121119-0033.flac\n",
            "donefinal_folder/male/1034-121119-0018.flac\n",
            "donefinal_folder/male/1040-133433-0067.flac\n",
            "donefinal_folder/male/1040-133433-0041.flac\n",
            "donefinal_folder/male/1040-133433-0058.flac\n",
            "donefinal_folder/male/1040-133433-0016.flac\n",
            "donefinal_folder/male/1040-133433-0002.flac\n",
            "donefinal_folder/male/1034-121119-0085.flac\n",
            "donefinal_folder/male/1040-133433-0032.flac\n",
            "donefinal_folder/male/1034-121119-0003.flac\n",
            "donefinal_folder/male/1034-121119-0031.flac\n",
            "donefinal_folder/male/1040-133433-0003.flac\n",
            "donefinal_folder/male/1040-133433-0050.flac\n",
            "donefinal_folder/male/1034-121119-0061.flac\n",
            "donefinal_folder/male/1040-133433-0073.flac\n",
            "donefinal_folder/male/1040-133433-0011.flac\n",
            "donefinal_folder/male/1034-121119-0040.flac\n",
            "donefinal_folder/male/1040-133433-0028.flac\n",
            "donefinal_folder/male/1040-133433-0010.flac\n",
            "donefinal_folder/male/1040-133433-0071.flac\n",
            "donefinal_folder/male/1040-133433-0005.flac\n",
            "donefinal_folder/male/1034-121119-0012.flac\n",
            "donefinal_folder/male/1034-121119-0013.flac\n",
            "donefinal_folder/male/1034-121119-0047.flac\n",
            "donefinal_folder/male/1034-121119-0069.flac\n",
            "donefinal_folder/male/1034-121119-0082.flac\n",
            "donefinal_folder/male/1034-121119-0027.flac\n",
            "donefinal_folder/male/1034-121119-0048.flac\n",
            "donefinal_folder/male/1034-121119-0087.flac\n",
            "donefinal_folder/male/1034-121119-0032.flac\n",
            "donefinal_folder/male/1034-121119-0077.flac\n",
            "donefinal_folder/male/1040-133433-0053.flac\n",
            "donefinal_folder/male/1040-133433-0000.flac\n",
            "donefinal_folder/male/1034-121119-0057.flac\n",
            "donefinal_folder/male/1034-121119-0064.flac\n",
            "donefinal_folder/male/1040-133433-0054.flac\n",
            "donefinal_folder/male/1034-121119-0060.flac\n",
            "donefinal_folder/male/1040-133433-0036.flac\n",
            "donefinal_folder/male/1040-133433-0074.flac\n",
            "donefinal_folder/male/1034-121119-0020.flac\n",
            "donefinal_folder/male/1034-121119-0037.flac\n",
            "donefinal_folder/male/1040-133433-0061.flac\n",
            "donefinal_folder/male/1040-133433-0068.flac\n",
            "donefinal_folder/male/1034-121119-0034.flac\n",
            "donefinal_folder/male/1040-133433-0072.flac\n",
            "donefinal_folder/male/1040-133433-0063.flac\n",
            "donefinal_folder/male/1034-121119-0002.flac\n",
            "donefinal_folder/male/1034-121119-0074.flac\n",
            "donefinal_folder/male/1034-121119-0075.flac\n",
            "donefinal_folder/male/1034-121119-0045.flac\n",
            "donefinal_folder/male/1034-121119-0042.flac\n",
            "donefinal_folder/male/1034-121119-0007.flac\n",
            "donefinal_folder/male/1034-121119-0091.flac\n",
            "donefinal_folder/male/1040-133433-0024.flac\n",
            "donefinal_folder/male/1034-121119-0050.flac\n",
            "donefinal_folder/male/1034-121119-0070.flac\n",
            "donefinal_folder/male/1040-133433-0021.flac\n",
            "donefinal_folder/male/1034-121119-0015.flac\n",
            "donefinal_folder/male/1034-121119-0076.flac\n",
            "donefinal_folder/male/1034-121119-0026.flac\n",
            "donefinal_folder/male/1040-133433-0035.flac\n",
            "donefinal_folder/male/1034-121119-0062.flac\n",
            "donefinal_folder/male/1040-133433-0055.flac\n",
            "donefinal_folder/male/1040-133433-0013.flac\n",
            "donefinal_folder/male/1034-121119-0059.flac\n",
            "donefinal_folder/male/1034-121119-0010.flac\n",
            "donefinal_folder/male/1040-133433-0006.flac\n",
            "donefinal_folder/male/1040-133433-0046.flac\n",
            "donefinal_folder/male/1040-133433-0033.flac\n",
            "donefinal_folder/male/1034-121119-0016.flac\n",
            "donefinal_folder/male/1034-121119-0051.flac\n",
            "donefinal_folder/male/1040-133433-0056.flac\n",
            "donefinal_folder/male/1034-121119-0011.flac\n",
            "donefinal_folder/male/1034-121119-0065.flac\n",
            "donefinal_folder/male/1034-121119-0073.flac\n",
            "donefinal_folder/male/1040-133433-0076.flac\n",
            "donefinal_folder/male/1040-133433-0042.flac\n",
            "donefinal_folder/male/1034-121119-0025.flac\n",
            "donefinal_folder/male/1034-121119-0067.flac\n",
            "donefinal_folder/male/1034-121119-0038.flac\n",
            "donefinal_folder/male/1040-133433-0062.flac\n",
            "donefinal_folder/male/1040-133433-0037.flac\n",
            "donefinal_folder/male/1040-133433-0069.flac\n",
            "donefinal_folder/male/1040-133433-0018.flac\n",
            "donefinal_folder/male/1034-121119-0093.flac\n",
            "donefinal_folder/male/1040-133433-0065.flac\n",
            "donefinal_folder/male/1034-121119-0068.flac\n",
            "donefinal_folder/male/1040-133433-0031.flac\n",
            "donefinal_folder/male/1034-121119-0043.flac\n",
            "donefinal_folder/male/1040-133433-0048.flac\n",
            "donefinal_folder/male/1034-121119-0071.flac\n",
            "donefinal_folder/male/1034-121119-0019.flac\n",
            "donefinal_folder/male/1034-121119-0023.flac\n",
            "donefinal_folder/male/1034-121119-0030.flac\n",
            "donefinal_folder/male/1040-133433-0023.flac\n",
            "donefinal_folder/male/1040-133433-0051.flac\n",
            "donefinal_folder/male/1040-133433-0020.flac\n",
            "donefinal_folder/male/1040-133433-0043.flac\n",
            "donefinal_folder/male/1034-121119-0036.flac\n",
            "donefinal_folder/male/1034-121119-0021.flac\n",
            "donefinal_folder/male/1034-121119-0006.flac\n",
            "donefinal_folder/male/1034-121119-0058.flac\n",
            "donefinal_folder/male/1040-133433-0026.flac\n",
            "donefinal_folder/male/1040-133433-0009.flac\n",
            "donefinal_folder/male/1034-121119-0017.flac\n",
            "donefinal_folder/male/1040-133433-0030.flac\n",
            "donefinal_folder/male/1040-133433-0080.flac\n",
            "donefinal_folder/male/1040-133433-0057.flac\n",
            "donefinal_folder/male/1040-133433-0019.flac\n",
            "donefinal_folder/male/1034-121119-0055.flac\n",
            "donefinal_folder/male/1034-121119-0005.flac\n",
            "donefinal_folder/male/1034-121119-0028.flac\n",
            "donefinal_folder/male/1040-133433-0029.flac\n",
            "donefinal_folder/male/1040-133433-0014.flac\n",
            "donefinal_folder/male/1034-121119-0066.flac\n",
            "donefinal_folder/male/1034-121119-0063.flac\n",
            "donefinal_folder/male/1040-133433-0075.flac\n",
            "donefinal_folder/male/1034-121119-0078.flac\n",
            "donefinal_folder/male/1040-133433-0039.flac\n",
            "donefinal_folder/male/1034-121119-0039.flac\n",
            "donefinal_folder/male/1034-121119-0001.flac\n",
            "donefinal_folder/male/1034-121119-0029.flac\n",
            "donefinal_folder/male/1034-121119-0014.flac\n",
            "donefinal_folder/male/1040-133433-0040.flac\n",
            "donefinal_folder/male/1040-133433-0017.flac\n",
            "donefinal_folder/male/1034-121119-0054.flac\n",
            "donefinal_folder/male/1034-121119-0044.flac\n",
            "donefinal_folder/male/1034-121119-0000.flac\n",
            "donefinal_folder/male/1040-133433-0025.flac\n",
            "donefinal_folder/male/1034-121119-0095.flac\n",
            "donefinal_folder/male/1034-121119-0041.flac\n",
            "donefinal_folder/male/1034-121119-0092.flac\n",
            "donefinal_folder/male/1040-133433-0079.flac\n",
            "donefinal_folder/male/1040-133433-0015.flac\n",
            "donefinal_folder/male/1034-121119-0056.flac\n",
            "donefinal_folder/male/1040-133433-0052.flac\n",
            "donefinal_folder/male/1034-121119-0053.flac\n",
            "donefinal_folder/male/1034-121119-0072.flac\n",
            "donefinal_folder/male/1034-121119-0080.flac\n",
            "donefinal_folder/male/1040-133433-0049.flac\n",
            "donefinal_folder/male/1040-133433-0045.flac\n",
            "donefinal_folder/male/1040-133433-0012.flac\n",
            "donefinal_folder/male/1034-121119-0004.flac\n",
            "donefinal_folder/male/1034-121119-0084.flac\n",
            "donefinal_folder/male/1034-121119-0052.flac\n",
            "donefinal_folder/male/1040-133433-0007.flac\n",
            "donefinal_folder/male/1034-121119-0086.flac\n",
            "donefinal_folder/male/1040-133433-0004.flac\n",
            "donefinal_folder/male/1034-121119-0081.flac\n",
            "donefinal_folder/male/1040-133433-0034.flac\n",
            "donefinal_folder/male/1034-121119-0083.flac\n",
            "donefinal_folder/male/1040-133433-0044.flac\n",
            "donefinal_folder/male/1034-121119-0089.flac\n",
            "donefinal_folder/male/1040-133433-0027.flac\n",
            "donefinal_folder/male/1034-121119-0079.flac\n",
            "donefinal_folder/male/1034-121119-0024.flac\n",
            "donefinal_folder/male/1040-133433-0077.flac\n",
            "donefinal_folder/male/1034-121119-0008.flac\n",
            "donefinal_folder/male/1034-121119-0094.flac\n",
            "donefinal_folder/male/1034-121119-0049.flac\n",
            "donefinal_folder/male/1040-133433-0047.flac\n",
            "donefinal_folder/male/1040-133433-0008.flac\n"
          ]
        }
      ]
    },
    {
      "cell_type": "code",
      "source": [
        "temp =features_label"
      ],
      "metadata": {
        "id": "1s72Ig195MS1"
      },
      "execution_count": 261,
      "outputs": []
    },
    {
      "cell_type": "code",
      "source": [
        "features_label = np.array(features_label)"
      ],
      "metadata": {
        "id": "AE9-kK0dLXym"
      },
      "execution_count": 262,
      "outputs": []
    },
    {
      "cell_type": "code",
      "source": [
        "features = []\n",
        "for i in range(0, len(features_label)):\n",
        "    features.append(np.concatenate((features_label[i][0], features_label[i][1], \n",
        "                features_label[i][2], features_label[i][3],\n",
        "                features_label[i][4]), axis=0))"
      ],
      "metadata": {
        "id": "-Ef3Gu2ZMixx"
      },
      "execution_count": 263,
      "outputs": []
    },
    {
      "cell_type": "code",
      "source": [
        "labels = df['username']"
      ],
      "metadata": {
        "id": "fd7AtRkHMsyh"
      },
      "execution_count": 264,
      "outputs": []
    },
    {
      "cell_type": "code",
      "source": [
        "np.unique(labels, return_counts=True)"
      ],
      "metadata": {
        "colab": {
          "base_uri": "https://localhost:8080/"
        },
        "id": "bN49qruNM2uG",
        "outputId": "0cd3c8a6-92b5-4ed5-b746-dfe650ae6dde"
      },
      "execution_count": 265,
      "outputs": [
        {
          "output_type": "execute_result",
          "data": {
            "text/plain": [
              "(array(['103', '1034', '1040', '1069'], dtype=object), array([58, 90, 75, 54]))"
            ]
          },
          "metadata": {},
          "execution_count": 265
        }
      ]
    },
    {
      "cell_type": "code",
      "source": [
        "X = np.array(features)\n",
        "y = np.array(labels)"
      ],
      "metadata": {
        "id": "im1-1p_pNGUY"
      },
      "execution_count": 303,
      "outputs": []
    },
    {
      "cell_type": "code",
      "source": [
        "y"
      ],
      "metadata": {
        "colab": {
          "base_uri": "https://localhost:8080/"
        },
        "id": "kn50B7buWRS_",
        "outputId": "6f664f43-cbb9-451e-8165-eb769f1ae9d6"
      },
      "execution_count": 304,
      "outputs": [
        {
          "output_type": "execute_result",
          "data": {
            "text/plain": [
              "array(['103', '103', '103', '103', '103', '1069', '1069', '1069', '103',\n",
              "       '1069', '1069', '1069', '1069', '1069', '1069', '103', '1069',\n",
              "       '1069', '103', '1069', '1069', '103', '1069', '103', '103', '1069',\n",
              "       '103', '103', '103', '103', '103', '103', '103', '1069', '103',\n",
              "       '103', '1069', '103', '103', '103', '1069', '1069', '103', '103',\n",
              "       '103', '103', '1069', '103', '1069', '1069', '1069', '1069',\n",
              "       '1069', '103', '103', '1069', '103', '1069', '103', '103', '1069',\n",
              "       '103', '103', '1069', '1069', '103', '1069', '1069', '103', '1069',\n",
              "       '1069', '103', '103', '1069', '103', '1069', '103', '1069', '1069',\n",
              "       '103', '103', '1069', '1069', '1069', '103', '1069', '1069', '103',\n",
              "       '1069', '1069', '103', '103', '1069', '103', '103', '103', '103',\n",
              "       '103', '1069', '1069', '103', '103', '103', '1069', '1069', '1069',\n",
              "       '1069', '1069', '103', '1069', '103', '103', '1040', '1040',\n",
              "       '1040', '1034', '1034', '1040', '1040', '1040', '1040', '1040',\n",
              "       '1034', '1040', '1034', '1034', '1040', '1040', '1034', '1040',\n",
              "       '1040', '1034', '1040', '1040', '1040', '1040', '1034', '1034',\n",
              "       '1034', '1034', '1034', '1034', '1034', '1034', '1034', '1034',\n",
              "       '1040', '1040', '1034', '1034', '1040', '1034', '1040', '1040',\n",
              "       '1034', '1034', '1040', '1040', '1034', '1040', '1040', '1034',\n",
              "       '1034', '1034', '1034', '1034', '1034', '1034', '1040', '1034',\n",
              "       '1034', '1040', '1034', '1034', '1034', '1040', '1034', '1040',\n",
              "       '1040', '1034', '1034', '1040', '1040', '1040', '1034', '1034',\n",
              "       '1040', '1034', '1034', '1034', '1040', '1040', '1034', '1034',\n",
              "       '1034', '1040', '1040', '1040', '1040', '1034', '1040', '1034',\n",
              "       '1040', '1034', '1040', '1034', '1034', '1034', '1034', '1040',\n",
              "       '1040', '1040', '1040', '1034', '1034', '1034', '1034', '1040',\n",
              "       '1040', '1034', '1040', '1040', '1040', '1040', '1034', '1034',\n",
              "       '1034', '1040', '1040', '1034', '1034', '1040', '1034', '1040',\n",
              "       '1034', '1034', '1034', '1034', '1040', '1040', '1034', '1034',\n",
              "       '1034', '1040', '1034', '1034', '1034', '1040', '1040', '1034',\n",
              "       '1040', '1034', '1034', '1034', '1040', '1040', '1040', '1034',\n",
              "       '1034', '1034', '1040', '1034', '1040', '1034', '1040', '1034',\n",
              "       '1040', '1034', '1040', '1034', '1034', '1040', '1034', '1034',\n",
              "       '1034', '1040', '1040'], dtype=object)"
            ]
          },
          "metadata": {},
          "execution_count": 304
        }
      ]
    },
    {
      "cell_type": "code",
      "source": [
        "from sklearn import preprocessing\n",
        "from keras.utils.np_utils import to_categorical\n",
        "lb = preprocessing.LabelEncoder()\n",
        "y = to_categorical(lb.fit_transform(y))"
      ],
      "metadata": {
        "id": "dY8syyU6NXY6"
      },
      "execution_count": 305,
      "outputs": []
    },
    {
      "cell_type": "code",
      "source": [
        "y"
      ],
      "metadata": {
        "colab": {
          "base_uri": "https://localhost:8080/"
        },
        "id": "Bs89mf0rNgzG",
        "outputId": "bb9d47fd-d5da-4a0d-b1e8-e69e220afcde"
      },
      "execution_count": 306,
      "outputs": [
        {
          "output_type": "execute_result",
          "data": {
            "text/plain": [
              "array([[1., 0., 0., 0.],\n",
              "       [1., 0., 0., 0.],\n",
              "       [1., 0., 0., 0.],\n",
              "       ...,\n",
              "       [0., 1., 0., 0.],\n",
              "       [0., 0., 1., 0.],\n",
              "       [0., 0., 1., 0.]], dtype=float32)"
            ]
          },
          "metadata": {},
          "execution_count": 306
        }
      ]
    },
    {
      "cell_type": "code",
      "source": [
        "y"
      ],
      "metadata": {
        "colab": {
          "base_uri": "https://localhost:8080/"
        },
        "id": "jqd_axJfSPst",
        "outputId": "81c68ede-4660-44a2-81ca-a8c5fa3c13f6"
      },
      "execution_count": 307,
      "outputs": [
        {
          "output_type": "execute_result",
          "data": {
            "text/plain": [
              "array([[1., 0., 0., 0.],\n",
              "       [1., 0., 0., 0.],\n",
              "       [1., 0., 0., 0.],\n",
              "       ...,\n",
              "       [0., 1., 0., 0.],\n",
              "       [0., 0., 1., 0.],\n",
              "       [0., 0., 1., 0.]], dtype=float32)"
            ]
          },
          "metadata": {},
          "execution_count": 307
        }
      ]
    },
    {
      "cell_type": "code",
      "source": [
        "X_train = X[:201]\n",
        "y_train = y[:201]\n",
        "X_val = X[201:261]\n",
        "y_val = y[201:261]\n",
        "X_test = X[261:]\n",
        "y_test = y[261:]"
      ],
      "metadata": {
        "id": "1tUaKs8IOEQv"
      },
      "execution_count": 308,
      "outputs": []
    },
    {
      "cell_type": "code",
      "source": [
        "from sklearn.preprocessing import StandardScaler\n",
        "ss = StandardScaler()\n",
        "X_train = ss.fit_transform(X_train)\n",
        "X_val = ss.transform(X_val)\n",
        "X_test = ss.transform(X_test)"
      ],
      "metadata": {
        "id": "0s8HxR5MOY0-"
      },
      "execution_count": 309,
      "outputs": []
    },
    {
      "cell_type": "code",
      "source": [
        "from keras.models import Sequential\n",
        "from keras.layers import Dense, Dropout, Activation, Flatten\n",
        "from keras.layers import Convolution2D, MaxPooling2D\n",
        "from tensorflow.keras.optimizers import Adam\n",
        "from keras.utils import np_utils\n",
        "from sklearn import metrics\n",
        "from tensorflow.keras.models import Sequential\n",
        "from tensorflow.keras.layers import Dense, Dropout \n",
        "from tensorflow.keras.wrappers.scikit_learn import KerasRegressor\n",
        "from keras.callbacks import EarlyStopping \n",
        "model = Sequential()\n",
        "\n",
        "model.add(Dense(193, input_shape=(193,), activation = 'relu'))\n",
        "model.add(Dropout(0.1))\n",
        "\n",
        "model.add(Dense(128, activation = 'relu'))\n",
        "model.add(Dropout(0.25))  \n",
        "\n",
        "model.add(Dense(128, activation = 'relu'))\n",
        "model.add(Dropout(0.5))    \n",
        "\n",
        "model.add(Dense(115, activation = 'softmax'))\n",
        "model.add(Dense(4, activation = 'softmax'))\n",
        "\n",
        "model.compile(loss='categorical_crossentropy', metrics=['accuracy'], optimizer='adam')\n",
        "\n",
        "early_stop = EarlyStopping(monitor='val_loss', min_delta=0, patience=100, verbose=1, mode='auto')"
      ],
      "metadata": {
        "id": "fOW3GuUfOhSK"
      },
      "execution_count": 312,
      "outputs": []
    },
    {
      "cell_type": "code",
      "source": [
        "\n",
        "history = model.fit(X_train, y_train, batch_size=256, epochs=100, \n",
        "                    validation_data=(X_val, y_val),\n",
        "                    callbacks=[early_stop])"
      ],
      "metadata": {
        "colab": {
          "base_uri": "https://localhost:8080/"
        },
        "id": "M8kPHhI_Otpq",
        "outputId": "e05e5ab3-7809-440a-9453-7bd2a3231c32"
      },
      "execution_count": 313,
      "outputs": [
        {
          "output_type": "stream",
          "name": "stdout",
          "text": [
            "Epoch 1/100\n",
            "1/1 [==============================] - 1s 1s/step - loss: 1.3867 - accuracy: 0.2736 - val_loss: 1.3923 - val_accuracy: 0.3667\n",
            "Epoch 2/100\n",
            "1/1 [==============================] - 0s 56ms/step - loss: 1.3824 - accuracy: 0.3731 - val_loss: 1.3914 - val_accuracy: 0.3500\n",
            "Epoch 3/100\n",
            "1/1 [==============================] - 0s 47ms/step - loss: 1.3786 - accuracy: 0.4428 - val_loss: 1.3906 - val_accuracy: 0.3500\n",
            "Epoch 4/100\n",
            "1/1 [==============================] - 0s 47ms/step - loss: 1.3746 - accuracy: 0.4726 - val_loss: 1.3896 - val_accuracy: 0.3333\n",
            "Epoch 5/100\n",
            "1/1 [==============================] - 0s 52ms/step - loss: 1.3690 - accuracy: 0.5622 - val_loss: 1.3882 - val_accuracy: 0.3667\n",
            "Epoch 6/100\n",
            "1/1 [==============================] - 0s 47ms/step - loss: 1.3649 - accuracy: 0.5771 - val_loss: 1.3860 - val_accuracy: 0.3667\n",
            "Epoch 7/100\n",
            "1/1 [==============================] - 0s 52ms/step - loss: 1.3594 - accuracy: 0.6418 - val_loss: 1.3830 - val_accuracy: 0.3833\n",
            "Epoch 8/100\n",
            "1/1 [==============================] - 0s 45ms/step - loss: 1.3515 - accuracy: 0.6816 - val_loss: 1.3790 - val_accuracy: 0.3833\n",
            "Epoch 9/100\n",
            "1/1 [==============================] - 0s 44ms/step - loss: 1.3441 - accuracy: 0.7214 - val_loss: 1.3735 - val_accuracy: 0.3833\n",
            "Epoch 10/100\n",
            "1/1 [==============================] - 0s 59ms/step - loss: 1.3349 - accuracy: 0.7363 - val_loss: 1.3666 - val_accuracy: 0.3833\n",
            "Epoch 11/100\n",
            "1/1 [==============================] - 0s 47ms/step - loss: 1.3244 - accuracy: 0.7761 - val_loss: 1.3579 - val_accuracy: 0.4000\n",
            "Epoch 12/100\n",
            "1/1 [==============================] - 0s 44ms/step - loss: 1.3166 - accuracy: 0.7612 - val_loss: 1.3475 - val_accuracy: 0.4000\n",
            "Epoch 13/100\n",
            "1/1 [==============================] - 0s 36ms/step - loss: 1.3053 - accuracy: 0.7612 - val_loss: 1.3360 - val_accuracy: 0.4167\n",
            "Epoch 14/100\n",
            "1/1 [==============================] - 0s 43ms/step - loss: 1.2957 - accuracy: 0.7960 - val_loss: 1.3235 - val_accuracy: 0.5500\n",
            "Epoch 15/100\n",
            "1/1 [==============================] - 0s 44ms/step - loss: 1.2784 - accuracy: 0.8358 - val_loss: 1.3100 - val_accuracy: 0.7333\n",
            "Epoch 16/100\n",
            "1/1 [==============================] - 0s 58ms/step - loss: 1.2634 - accuracy: 0.8657 - val_loss: 1.2943 - val_accuracy: 0.8833\n",
            "Epoch 17/100\n",
            "1/1 [==============================] - 0s 40ms/step - loss: 1.2518 - accuracy: 0.8756 - val_loss: 1.2759 - val_accuracy: 0.9500\n",
            "Epoch 18/100\n",
            "1/1 [==============================] - 0s 51ms/step - loss: 1.2424 - accuracy: 0.9055 - val_loss: 1.2560 - val_accuracy: 0.9667\n",
            "Epoch 19/100\n",
            "1/1 [==============================] - 0s 37ms/step - loss: 1.2305 - accuracy: 0.9055 - val_loss: 1.2381 - val_accuracy: 0.9667\n",
            "Epoch 20/100\n",
            "1/1 [==============================] - 0s 54ms/step - loss: 1.2152 - accuracy: 0.9652 - val_loss: 1.2250 - val_accuracy: 0.9667\n",
            "Epoch 21/100\n",
            "1/1 [==============================] - 0s 40ms/step - loss: 1.2072 - accuracy: 0.9652 - val_loss: 1.2170 - val_accuracy: 0.9667\n",
            "Epoch 22/100\n",
            "1/1 [==============================] - 0s 55ms/step - loss: 1.1949 - accuracy: 0.9701 - val_loss: 1.2125 - val_accuracy: 0.9667\n",
            "Epoch 23/100\n",
            "1/1 [==============================] - 0s 41ms/step - loss: 1.1855 - accuracy: 0.9900 - val_loss: 1.2098 - val_accuracy: 0.9667\n",
            "Epoch 24/100\n",
            "1/1 [==============================] - 0s 45ms/step - loss: 1.1814 - accuracy: 0.9900 - val_loss: 1.2080 - val_accuracy: 0.9667\n",
            "Epoch 25/100\n",
            "1/1 [==============================] - 0s 50ms/step - loss: 1.1712 - accuracy: 1.0000 - val_loss: 1.2064 - val_accuracy: 0.9667\n",
            "Epoch 26/100\n",
            "1/1 [==============================] - 0s 48ms/step - loss: 1.1717 - accuracy: 0.9751 - val_loss: 1.2046 - val_accuracy: 0.9500\n",
            "Epoch 27/100\n",
            "1/1 [==============================] - 0s 45ms/step - loss: 1.1666 - accuracy: 0.9851 - val_loss: 1.2022 - val_accuracy: 0.9500\n",
            "Epoch 28/100\n",
            "1/1 [==============================] - 0s 41ms/step - loss: 1.1609 - accuracy: 0.9950 - val_loss: 1.1987 - val_accuracy: 0.9500\n",
            "Epoch 29/100\n",
            "1/1 [==============================] - 0s 47ms/step - loss: 1.1592 - accuracy: 0.9900 - val_loss: 1.1947 - val_accuracy: 0.9667\n",
            "Epoch 30/100\n",
            "1/1 [==============================] - 0s 44ms/step - loss: 1.1542 - accuracy: 0.9950 - val_loss: 1.1911 - val_accuracy: 0.9667\n",
            "Epoch 31/100\n",
            "1/1 [==============================] - 0s 43ms/step - loss: 1.1543 - accuracy: 0.9801 - val_loss: 1.1885 - val_accuracy: 0.9667\n",
            "Epoch 32/100\n",
            "1/1 [==============================] - 0s 46ms/step - loss: 1.1494 - accuracy: 0.9950 - val_loss: 1.1861 - val_accuracy: 0.9667\n",
            "Epoch 33/100\n",
            "1/1 [==============================] - 0s 45ms/step - loss: 1.1474 - accuracy: 0.9950 - val_loss: 1.1840 - val_accuracy: 0.9667\n",
            "Epoch 34/100\n",
            "1/1 [==============================] - 0s 43ms/step - loss: 1.1452 - accuracy: 1.0000 - val_loss: 1.1820 - val_accuracy: 0.9667\n",
            "Epoch 35/100\n",
            "1/1 [==============================] - 0s 48ms/step - loss: 1.1407 - accuracy: 1.0000 - val_loss: 1.1800 - val_accuracy: 0.9667\n",
            "Epoch 36/100\n",
            "1/1 [==============================] - 0s 39ms/step - loss: 1.1384 - accuracy: 1.0000 - val_loss: 1.1781 - val_accuracy: 0.9833\n",
            "Epoch 37/100\n",
            "1/1 [==============================] - 0s 43ms/step - loss: 1.1370 - accuracy: 1.0000 - val_loss: 1.1762 - val_accuracy: 0.9833\n",
            "Epoch 38/100\n",
            "1/1 [==============================] - 0s 42ms/step - loss: 1.1377 - accuracy: 0.9900 - val_loss: 1.1743 - val_accuracy: 0.9833\n",
            "Epoch 39/100\n",
            "1/1 [==============================] - 0s 39ms/step - loss: 1.1316 - accuracy: 1.0000 - val_loss: 1.1724 - val_accuracy: 0.9833\n",
            "Epoch 40/100\n",
            "1/1 [==============================] - 0s 43ms/step - loss: 1.1291 - accuracy: 1.0000 - val_loss: 1.1706 - val_accuracy: 0.9833\n",
            "Epoch 41/100\n",
            "1/1 [==============================] - 0s 39ms/step - loss: 1.1269 - accuracy: 1.0000 - val_loss: 1.1687 - val_accuracy: 0.9833\n",
            "Epoch 42/100\n",
            "1/1 [==============================] - 0s 45ms/step - loss: 1.1240 - accuracy: 1.0000 - val_loss: 1.1667 - val_accuracy: 0.9833\n",
            "Epoch 43/100\n",
            "1/1 [==============================] - 0s 40ms/step - loss: 1.1211 - accuracy: 1.0000 - val_loss: 1.1645 - val_accuracy: 0.9833\n",
            "Epoch 44/100\n",
            "1/1 [==============================] - 0s 42ms/step - loss: 1.1197 - accuracy: 1.0000 - val_loss: 1.1619 - val_accuracy: 0.9833\n",
            "Epoch 45/100\n",
            "1/1 [==============================] - 0s 42ms/step - loss: 1.1169 - accuracy: 1.0000 - val_loss: 1.1591 - val_accuracy: 0.9833\n",
            "Epoch 46/100\n",
            "1/1 [==============================] - 0s 36ms/step - loss: 1.1134 - accuracy: 1.0000 - val_loss: 1.1564 - val_accuracy: 0.9833\n",
            "Epoch 47/100\n",
            "1/1 [==============================] - 0s 36ms/step - loss: 1.1102 - accuracy: 1.0000 - val_loss: 1.1542 - val_accuracy: 0.9833\n",
            "Epoch 48/100\n",
            "1/1 [==============================] - 0s 37ms/step - loss: 1.1085 - accuracy: 1.0000 - val_loss: 1.1524 - val_accuracy: 0.9833\n",
            "Epoch 49/100\n",
            "1/1 [==============================] - 0s 37ms/step - loss: 1.1063 - accuracy: 1.0000 - val_loss: 1.1508 - val_accuracy: 0.9833\n",
            "Epoch 50/100\n",
            "1/1 [==============================] - 0s 38ms/step - loss: 1.1038 - accuracy: 1.0000 - val_loss: 1.1494 - val_accuracy: 0.9833\n",
            "Epoch 51/100\n",
            "1/1 [==============================] - 0s 37ms/step - loss: 1.1013 - accuracy: 1.0000 - val_loss: 1.1480 - val_accuracy: 0.9833\n",
            "Epoch 52/100\n",
            "1/1 [==============================] - 0s 40ms/step - loss: 1.1010 - accuracy: 0.9950 - val_loss: 1.1467 - val_accuracy: 0.9833\n",
            "Epoch 53/100\n",
            "1/1 [==============================] - 0s 43ms/step - loss: 1.0968 - accuracy: 1.0000 - val_loss: 1.1454 - val_accuracy: 0.9833\n",
            "Epoch 54/100\n",
            "1/1 [==============================] - 0s 40ms/step - loss: 1.0956 - accuracy: 1.0000 - val_loss: 1.1441 - val_accuracy: 0.9833\n",
            "Epoch 55/100\n",
            "1/1 [==============================] - 0s 43ms/step - loss: 1.0932 - accuracy: 1.0000 - val_loss: 1.1429 - val_accuracy: 0.9833\n",
            "Epoch 56/100\n",
            "1/1 [==============================] - 0s 41ms/step - loss: 1.0904 - accuracy: 1.0000 - val_loss: 1.1416 - val_accuracy: 0.9833\n",
            "Epoch 57/100\n",
            "1/1 [==============================] - 0s 38ms/step - loss: 1.0889 - accuracy: 1.0000 - val_loss: 1.1404 - val_accuracy: 0.9833\n",
            "Epoch 58/100\n",
            "1/1 [==============================] - 0s 39ms/step - loss: 1.0866 - accuracy: 1.0000 - val_loss: 1.1391 - val_accuracy: 0.9833\n",
            "Epoch 59/100\n",
            "1/1 [==============================] - 0s 37ms/step - loss: 1.0853 - accuracy: 1.0000 - val_loss: 1.1379 - val_accuracy: 0.9833\n",
            "Epoch 60/100\n",
            "1/1 [==============================] - 0s 56ms/step - loss: 1.0827 - accuracy: 1.0000 - val_loss: 1.1366 - val_accuracy: 0.9833\n",
            "Epoch 61/100\n",
            "1/1 [==============================] - 0s 42ms/step - loss: 1.0807 - accuracy: 1.0000 - val_loss: 1.1354 - val_accuracy: 0.9833\n",
            "Epoch 62/100\n",
            "1/1 [==============================] - 0s 36ms/step - loss: 1.0787 - accuracy: 1.0000 - val_loss: 1.1341 - val_accuracy: 0.9833\n",
            "Epoch 63/100\n",
            "1/1 [==============================] - 0s 40ms/step - loss: 1.0767 - accuracy: 1.0000 - val_loss: 1.1329 - val_accuracy: 0.9833\n",
            "Epoch 64/100\n",
            "1/1 [==============================] - 0s 41ms/step - loss: 1.0754 - accuracy: 1.0000 - val_loss: 1.1316 - val_accuracy: 0.9833\n",
            "Epoch 65/100\n",
            "1/1 [==============================] - 0s 38ms/step - loss: 1.0730 - accuracy: 1.0000 - val_loss: 1.1304 - val_accuracy: 0.9833\n",
            "Epoch 66/100\n",
            "1/1 [==============================] - 0s 40ms/step - loss: 1.0709 - accuracy: 1.0000 - val_loss: 1.1291 - val_accuracy: 0.9833\n",
            "Epoch 67/100\n",
            "1/1 [==============================] - 0s 45ms/step - loss: 1.0690 - accuracy: 1.0000 - val_loss: 1.1278 - val_accuracy: 0.9833\n",
            "Epoch 68/100\n",
            "1/1 [==============================] - 0s 38ms/step - loss: 1.0671 - accuracy: 1.0000 - val_loss: 1.1266 - val_accuracy: 0.9833\n",
            "Epoch 69/100\n",
            "1/1 [==============================] - 0s 38ms/step - loss: 1.0653 - accuracy: 1.0000 - val_loss: 1.1253 - val_accuracy: 0.9833\n",
            "Epoch 70/100\n",
            "1/1 [==============================] - 0s 48ms/step - loss: 1.0635 - accuracy: 1.0000 - val_loss: 1.1240 - val_accuracy: 0.9833\n",
            "Epoch 71/100\n",
            "1/1 [==============================] - 0s 43ms/step - loss: 1.0616 - accuracy: 1.0000 - val_loss: 1.1227 - val_accuracy: 0.9833\n",
            "Epoch 72/100\n",
            "1/1 [==============================] - 0s 44ms/step - loss: 1.0601 - accuracy: 1.0000 - val_loss: 1.1214 - val_accuracy: 0.9833\n",
            "Epoch 73/100\n",
            "1/1 [==============================] - 0s 37ms/step - loss: 1.0580 - accuracy: 1.0000 - val_loss: 1.1201 - val_accuracy: 0.9833\n",
            "Epoch 74/100\n",
            "1/1 [==============================] - 0s 42ms/step - loss: 1.0561 - accuracy: 1.0000 - val_loss: 1.1188 - val_accuracy: 0.9833\n",
            "Epoch 75/100\n",
            "1/1 [==============================] - 0s 44ms/step - loss: 1.0547 - accuracy: 1.0000 - val_loss: 1.1175 - val_accuracy: 0.9833\n",
            "Epoch 76/100\n",
            "1/1 [==============================] - 0s 39ms/step - loss: 1.0525 - accuracy: 1.0000 - val_loss: 1.1162 - val_accuracy: 0.9833\n",
            "Epoch 77/100\n",
            "1/1 [==============================] - 0s 39ms/step - loss: 1.0510 - accuracy: 1.0000 - val_loss: 1.1148 - val_accuracy: 0.9833\n",
            "Epoch 78/100\n",
            "1/1 [==============================] - 0s 39ms/step - loss: 1.0504 - accuracy: 0.9950 - val_loss: 1.1135 - val_accuracy: 0.9833\n",
            "Epoch 79/100\n",
            "1/1 [==============================] - 0s 38ms/step - loss: 1.0472 - accuracy: 1.0000 - val_loss: 1.1122 - val_accuracy: 0.9833\n",
            "Epoch 80/100\n",
            "1/1 [==============================] - 0s 41ms/step - loss: 1.0454 - accuracy: 1.0000 - val_loss: 1.1108 - val_accuracy: 0.9833\n",
            "Epoch 81/100\n",
            "1/1 [==============================] - 0s 37ms/step - loss: 1.0437 - accuracy: 1.0000 - val_loss: 1.1095 - val_accuracy: 0.9833\n",
            "Epoch 82/100\n",
            "1/1 [==============================] - 0s 37ms/step - loss: 1.0423 - accuracy: 1.0000 - val_loss: 1.1082 - val_accuracy: 0.9833\n",
            "Epoch 83/100\n",
            "1/1 [==============================] - 0s 38ms/step - loss: 1.0403 - accuracy: 1.0000 - val_loss: 1.1068 - val_accuracy: 0.9833\n",
            "Epoch 84/100\n",
            "1/1 [==============================] - 0s 37ms/step - loss: 1.0386 - accuracy: 1.0000 - val_loss: 1.1055 - val_accuracy: 0.9833\n",
            "Epoch 85/100\n",
            "1/1 [==============================] - 0s 40ms/step - loss: 1.0369 - accuracy: 1.0000 - val_loss: 1.1041 - val_accuracy: 0.9833\n",
            "Epoch 86/100\n",
            "1/1 [==============================] - 0s 37ms/step - loss: 1.0352 - accuracy: 1.0000 - val_loss: 1.1028 - val_accuracy: 0.9833\n",
            "Epoch 87/100\n",
            "1/1 [==============================] - 0s 38ms/step - loss: 1.0335 - accuracy: 1.0000 - val_loss: 1.1014 - val_accuracy: 0.9833\n",
            "Epoch 88/100\n",
            "1/1 [==============================] - 0s 38ms/step - loss: 1.0318 - accuracy: 1.0000 - val_loss: 1.1001 - val_accuracy: 0.9833\n",
            "Epoch 89/100\n",
            "1/1 [==============================] - 0s 44ms/step - loss: 1.0302 - accuracy: 1.0000 - val_loss: 1.0987 - val_accuracy: 0.9833\n",
            "Epoch 90/100\n",
            "1/1 [==============================] - 0s 42ms/step - loss: 1.0285 - accuracy: 1.0000 - val_loss: 1.0973 - val_accuracy: 0.9833\n",
            "Epoch 91/100\n",
            "1/1 [==============================] - 0s 37ms/step - loss: 1.0269 - accuracy: 1.0000 - val_loss: 1.0960 - val_accuracy: 0.9833\n",
            "Epoch 92/100\n",
            "1/1 [==============================] - 0s 38ms/step - loss: 1.0253 - accuracy: 1.0000 - val_loss: 1.0946 - val_accuracy: 0.9833\n",
            "Epoch 93/100\n",
            "1/1 [==============================] - 0s 40ms/step - loss: 1.0236 - accuracy: 1.0000 - val_loss: 1.0933 - val_accuracy: 0.9833\n",
            "Epoch 94/100\n",
            "1/1 [==============================] - 0s 41ms/step - loss: 1.0221 - accuracy: 1.0000 - val_loss: 1.0919 - val_accuracy: 0.9833\n",
            "Epoch 95/100\n",
            "1/1 [==============================] - 0s 40ms/step - loss: 1.0204 - accuracy: 1.0000 - val_loss: 1.0905 - val_accuracy: 0.9833\n",
            "Epoch 96/100\n",
            "1/1 [==============================] - 0s 39ms/step - loss: 1.0188 - accuracy: 1.0000 - val_loss: 1.0892 - val_accuracy: 0.9833\n",
            "Epoch 97/100\n",
            "1/1 [==============================] - 0s 40ms/step - loss: 1.0172 - accuracy: 1.0000 - val_loss: 1.0878 - val_accuracy: 0.9833\n",
            "Epoch 98/100\n",
            "1/1 [==============================] - 0s 38ms/step - loss: 1.0157 - accuracy: 1.0000 - val_loss: 1.0865 - val_accuracy: 0.9833\n",
            "Epoch 99/100\n",
            "1/1 [==============================] - 0s 36ms/step - loss: 1.0143 - accuracy: 1.0000 - val_loss: 1.0851 - val_accuracy: 0.9833\n",
            "Epoch 100/100\n",
            "1/1 [==============================] - 0s 37ms/step - loss: 1.0125 - accuracy: 1.0000 - val_loss: 1.0837 - val_accuracy: 0.9833\n"
          ]
        }
      ]
    },
    {
      "cell_type": "code",
      "source": [
        "import matplotlib.pyplot as plt\n",
        "\n",
        "train_accuracy = history.history['accuracy']\n",
        "val_accuracy = history.history['val_accuracy']\n",
        "\n",
        "# Set figure size.\n",
        "plt.figure(figsize=(12, 8))\n",
        "\n",
        "# Generate line plot of training, testing loss over epochs.\n",
        "plt.plot(train_accuracy, label='Training Accuracy', color='#185fad')\n",
        "plt.plot(val_accuracy, label='Validation Accuracy', color='orange')\n",
        "\n",
        "# Set title\n",
        "plt.title('Training and Validation Accuracy by Epoch', fontsize = 25)\n",
        "plt.xlabel('Epoch', fontsize = 18)\n",
        "plt.ylabel('Categorical Crossentropy', fontsize = 18)\n",
        "plt.xticks(range(0,100,5), range(0,100,5))\n",
        "\n",
        "plt.legend(fontsize = 18);"
      ],
      "metadata": {
        "colab": {
          "base_uri": "https://localhost:8080/",
          "height": 530
        },
        "id": "iNkDo8W4PJM7",
        "outputId": "f71e2f25-7f54-489d-ed24-0f072f1d90f8"
      },
      "execution_count": 315,
      "outputs": [
        {
          "output_type": "display_data",
          "data": {
            "text/plain": [
              "<Figure size 864x576 with 1 Axes>"
            ],
            "image/png": "[encoded data removed]"
          },
          "metadata": {
            "needs_background": "light"
          }
        }
      ]
    },
    {
      "cell_type": "code",
      "source": [
        "print(train_accuracy[-1])\n",
        "print(val_accuracy[-1])"
      ],
      "metadata": {
        "colab": {
          "base_uri": "https://localhost:8080/"
        },
        "id": "WHdSorH4abXN",
        "outputId": "99a68a42-e1d9-446c-dded-e7fa41542f10"
      },
      "execution_count": 346,
      "outputs": [
        {
          "output_type": "stream",
          "name": "stdout",
          "text": [
            "1.0\n",
            "0.9833333492279053\n"
          ]
        }
      ]
    },
    {
      "cell_type": "code",
      "source": [
        "preds = model.predict(X_test)"
      ],
      "metadata": {
        "id": "4-U1BCmSP79_"
      },
      "execution_count": 317,
      "outputs": []
    },
    {
      "cell_type": "code",
      "source": [
        "preds"
      ],
      "metadata": {
        "colab": {
          "base_uri": "https://localhost:8080/"
        },
        "id": "FP0yJgzhP9Jo",
        "outputId": "82e11024-ed44-48d3-ac7c-59cdaa68a6fb"
      },
      "execution_count": 318,
      "outputs": [
        {
          "output_type": "execute_result",
          "data": {
            "text/plain": [
              "array([[0.24902235, 0.33893842, 0.1768753 , 0.23516394],\n",
              "       [0.23992498, 0.18747541, 0.34637314, 0.22622648],\n",
              "       [0.24902235, 0.33893842, 0.1768753 , 0.23516394],\n",
              "       [0.23992498, 0.18747541, 0.34637314, 0.22622648],\n",
              "       [0.24902235, 0.33893842, 0.1768753 , 0.23516394],\n",
              "       [0.23992498, 0.18747541, 0.34637314, 0.22622648],\n",
              "       [0.24902235, 0.33893842, 0.1768753 , 0.23516394],\n",
              "       [0.23992498, 0.18747541, 0.34637314, 0.22622648],\n",
              "       [0.24902235, 0.33893842, 0.1768753 , 0.23516394],\n",
              "       [0.24902235, 0.33893842, 0.1768753 , 0.23516394],\n",
              "       [0.23992498, 0.18747541, 0.34637314, 0.22622648],\n",
              "       [0.24902235, 0.33893842, 0.1768753 , 0.23516394],\n",
              "       [0.24902235, 0.33893842, 0.1768753 , 0.23516394],\n",
              "       [0.24902235, 0.33893842, 0.1768753 , 0.23516394],\n",
              "       [0.23992498, 0.18747541, 0.34637314, 0.22622648],\n",
              "       [0.23992498, 0.18747541, 0.34637314, 0.22622648]], dtype=float32)"
            ]
          },
          "metadata": {},
          "execution_count": 318
        }
      ]
    },
    {
      "cell_type": "code",
      "source": [
        "preds = np.ndarray.tolist(preds)"
      ],
      "metadata": {
        "id": "voVJ1OzoP-Zk"
      },
      "execution_count": 333,
      "outputs": []
    },
    {
      "cell_type": "code",
      "source": [
        "list_vec = []\n",
        "for i in preds:\n",
        "  list_vec.append(i. index(max(i)))"
      ],
      "metadata": {
        "id": "mjYJ4mZiQoD3"
      },
      "execution_count": 338,
      "outputs": []
    },
    {
      "cell_type": "code",
      "source": [
        "list_vec"
      ],
      "metadata": {
        "colab": {
          "base_uri": "https://localhost:8080/"
        },
        "id": "QAmns4BlQqHL",
        "outputId": "9605c14e-6e9c-46b7-b952-673764d6d30f"
      },
      "execution_count": 339,
      "outputs": [
        {
          "output_type": "execute_result",
          "data": {
            "text/plain": [
              "[1, 2, 1, 2, 1, 2, 1, 2, 1, 1, 2, 1, 1, 1, 2, 2]"
            ]
          },
          "metadata": {},
          "execution_count": 339
        }
      ]
    },
    {
      "cell_type": "code",
      "source": [
        "list_test_vec = []\n",
        "y_test = np.ndarray.tolist(y_test)\n",
        "for i in y_test:\n",
        "  list_test_vec.append(i. index(max(i)))"
      ],
      "metadata": {
        "id": "Er3d41h4Qrt-"
      },
      "execution_count": 342,
      "outputs": []
    },
    {
      "cell_type": "code",
      "source": [
        "list_test_vec"
      ],
      "metadata": {
        "colab": {
          "base_uri": "https://localhost:8080/"
        },
        "id": "91V0FZyGTBjl",
        "outputId": "199837fc-8940-436f-e773-8a4dec5b7a90"
      },
      "execution_count": 344,
      "outputs": [
        {
          "output_type": "execute_result",
          "data": {
            "text/plain": [
              "[1, 2, 1, 2, 1, 2, 1, 2, 1, 1, 2, 1, 1, 1, 2, 2]"
            ]
          },
          "metadata": {},
          "execution_count": 344
        }
      ]
    },
    {
      "cell_type": "code",
      "source": [
        ""
      ],
      "metadata": {
        "id": "7fS3-_5baOD5"
      },
      "execution_count": null,
      "outputs": []
    }
  ]
}